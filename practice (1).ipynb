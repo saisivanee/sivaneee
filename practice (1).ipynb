{
 "cells": [
  {
   "cell_type": "code",
   "execution_count": 1,
   "id": "73de1908-0a82-434c-b814-fa097ad27e0b",
   "metadata": {},
   "outputs": [
    {
     "name": "stdout",
     "output_type": "stream",
     "text": [
      "welcome to the world\n"
     ]
    }
   ],
   "source": [
    "print(\"welcome to the world\")"
   ]
  },
  {
   "cell_type": "code",
   "execution_count": 2,
   "id": "1c6c7b94-7b84-4827-93ac-986f4ec1843c",
   "metadata": {},
   "outputs": [
    {
     "name": "stdout",
     "output_type": "stream",
     "text": [
      "Twenty is greater than two\n"
     ]
    }
   ],
   "source": [
    "if 20 > 2:\n",
    "    print(\"Twenty is greater than two\")"
   ]
  },
  {
   "cell_type": "code",
   "execution_count": 3,
   "id": "3fe21276-a503-419f-8c9c-b2c2bc260bc4",
   "metadata": {},
   "outputs": [],
   "source": [
    "if 20 < 6:\n",
    "    print(\"Twenty less than six\")"
   ]
  },
  {
   "cell_type": "code",
   "execution_count": 4,
   "id": "badf813c-5a17-4885-a2e7-756ff5a4d446",
   "metadata": {},
   "outputs": [
    {
     "name": "stdout",
     "output_type": "stream",
     "text": [
      "z\n"
     ]
    }
   ],
   "source": [
    "x = 5\n",
    "y = 9\n",
    "z = x + y\n",
    "print(\"z\")"
   ]
  },
  {
   "cell_type": "code",
   "execution_count": 5,
   "id": "1ec0656e-b81f-4ed6-be72-a40f408c9065",
   "metadata": {},
   "outputs": [
    {
     "name": "stdout",
     "output_type": "stream",
     "text": [
      "sivv\n"
     ]
    }
   ],
   "source": [
    "x = 4\n",
    "x = \"sivv\"\n",
    "print(x)\n"
   ]
  },
  {
   "cell_type": "code",
   "execution_count": 6,
   "id": "e0a00eb1-c130-421a-a0a4-cf4f9f286ed1",
   "metadata": {},
   "outputs": [
    {
     "name": "stdout",
     "output_type": "stream",
     "text": [
      "3.0\n"
     ]
    }
   ],
   "source": [
    "x = str(3)\n",
    "x = int(3)\n",
    "x = float(3)\n",
    "print(x)\n"
   ]
  },
  {
   "cell_type": "code",
   "execution_count": 7,
   "id": "4a377c95-a137-4d57-ba92-4c58bc6e25d9",
   "metadata": {},
   "outputs": [
    {
     "name": "stdout",
     "output_type": "stream",
     "text": [
      "<class 'int'>\n",
      "<class 'str'>\n"
     ]
    }
   ],
   "source": [
    "x = 5\n",
    "y = \"sivanee\"\n",
    "print(type(x))\n",
    "print(type(y))\n"
   ]
  },
  {
   "cell_type": "code",
   "execution_count": 8,
   "id": "c930d7cd-9fb0-48c1-a621-02eaa7871885",
   "metadata": {},
   "outputs": [
    {
     "name": "stdout",
     "output_type": "stream",
     "text": [
      "5\n",
      "sivv\n"
     ]
    }
   ],
   "source": [
    "a = 5\n",
    "A = \"sivv\"\n",
    "print(a)\n",
    "print(A)"
   ]
  },
  {
   "cell_type": "code",
   "execution_count": 9,
   "id": "f7363b86-0030-44ec-9fba-980bcff95efe",
   "metadata": {},
   "outputs": [
    {
     "name": "stdout",
     "output_type": "stream",
     "text": [
      "sivanee\n",
      "swachi\n",
      "chichi\n"
     ]
    }
   ],
   "source": [
    "x, y, z = \"sivanee\", \"swachi\", \"chichi\"\n",
    "print(x)\n",
    "print(y)\n",
    "print(z)"
   ]
  },
  {
   "cell_type": "code",
   "execution_count": 10,
   "id": "e0cfb204-e5b1-4086-9fc2-5be7f1eb081e",
   "metadata": {},
   "outputs": [
    {
     "name": "stdout",
     "output_type": "stream",
     "text": [
      "sivanee\n",
      "sivanee\n",
      "sivanee\n"
     ]
    }
   ],
   "source": [
    "x = y = z = \"sivanee\"\n",
    "print(x)\n",
    "print(y)\n",
    "print(z)"
   ]
  },
  {
   "cell_type": "code",
   "execution_count": 11,
   "id": "48ed82a8-e576-4f68-8d35-7c2bd4f6d60d",
   "metadata": {},
   "outputs": [
    {
     "name": "stdout",
     "output_type": "stream",
     "text": [
      "sivanee\n",
      "swachi\n",
      "chichi\n"
     ]
    }
   ],
   "source": [
    "names = [\"sivanee\", \"swachi\", \"chichi\"]\n",
    "x, y,  z = names\n",
    "print(x)\n",
    "print(y)\n",
    "print(z)"
   ]
  },
  {
   "cell_type": "code",
   "execution_count": 12,
   "id": "c6b4fd03-2096-4e60-9969-6ded596ddc49",
   "metadata": {},
   "outputs": [
    {
     "name": "stdout",
     "output_type": "stream",
     "text": [
      "sivanee is good girl\n"
     ]
    }
   ],
   "source": [
    "x = \"good girl\"\n",
    "y = \"sivanee is\"\n",
    "print(y + \" \" + x)"
   ]
  },
  {
   "cell_type": "code",
   "execution_count": 13,
   "id": "5d2e34a0-9f4a-4f4c-91f9-2167e2a5ff9e",
   "metadata": {},
   "outputs": [
    {
     "name": "stdout",
     "output_type": "stream",
     "text": [
      "sivanee is fantastic\n",
      "sivanee is fantastic\n"
     ]
    }
   ],
   "source": [
    "x = \"awesome\"\n",
    "\n",
    "def myfunc():\n",
    "    global x\n",
    "    x = \"fantastic\"\n",
    "    print(\"sivanee is \" + x)\n",
    "myfunc()\n",
    "\n",
    "print(\"sivanee is \" + x)"
   ]
  },
  {
   "cell_type": "code",
   "execution_count": 14,
   "id": "bf53881a-e44f-419d-a287-85f83fbf6b96",
   "metadata": {},
   "outputs": [
    {
     "name": "stdout",
     "output_type": "stream",
     "text": [
      "30 10 90\n"
     ]
    }
   ],
   "source": [
    "numbers = [\"10\", \"30\", \"90\"]\n",
    "a, b, c = numbers\n",
    "a, b, c = b, a, c\n",
    "print(a, b, c)"
   ]
  },
  {
   "cell_type": "code",
   "execution_count": 15,
   "id": "a09aae4d-b1c3-4fee-a06d-5db607916dfe",
   "metadata": {},
   "outputs": [
    {
     "name": "stdout",
     "output_type": "stream",
     "text": [
      "236\n"
     ]
    }
   ],
   "source": [
    "import random\n",
    "\n",
    "print(random.randrange(200,1000))"
   ]
  },
  {
   "cell_type": "code",
   "execution_count": 16,
   "id": "5fb9c294-29da-44bd-89c1-cedcb64a1290",
   "metadata": {},
   "outputs": [
    {
     "name": "stdout",
     "output_type": "stream",
     "text": [
      "\"\"hello people,\n",
      "I hope you all are doing good, \n",
      "please do takecare and \n",
      "stay safe and stay home.\n"
     ]
    }
   ],
   "source": [
    "a = \"\"\"\"\"hello people,\n",
    "I hope you all are doing good, \n",
    "please do takecare and \n",
    "stay safe and stay home.\"\"\"\n",
    "print(a)"
   ]
  },
  {
   "cell_type": "code",
   "execution_count": 17,
   "id": "f154d770-359c-4d62-bd51-e0b85c6b2637",
   "metadata": {},
   "outputs": [
    {
     "name": "stdout",
     "output_type": "stream",
     "text": [
      "n a e\n"
     ]
    }
   ],
   "source": [
    "a = \"sivanee sangeetham\"\n",
    "print(a[10], a[3], a[6])"
   ]
  },
  {
   "cell_type": "code",
   "execution_count": 18,
   "id": "207636b5-759c-4306-a972-f730e45b5e86",
   "metadata": {},
   "outputs": [
    {
     "name": "stdout",
     "output_type": "stream",
     "text": [
      "b\n",
      "a\n",
      "n\n",
      "a\n",
      "n\n",
      "a\n"
     ]
    }
   ],
   "source": [
    "for X in \"banana\":\n",
    "    print(X)"
   ]
  },
  {
   "cell_type": "code",
   "execution_count": 19,
   "id": "2a1973c2-f88b-4eb0-a74f-2111cf78a28e",
   "metadata": {},
   "outputs": [
    {
     "name": "stdout",
     "output_type": "stream",
     "text": [
      "18\n"
     ]
    }
   ],
   "source": [
    "a = \"sangeetham sivanee\"\n",
    "print(len(a))"
   ]
  },
  {
   "cell_type": "code",
   "execution_count": 20,
   "id": "5efcf361-7bb3-4d82-8d69-56a3309e23f8",
   "metadata": {},
   "outputs": [
    {
     "name": "stdout",
     "output_type": "stream",
     "text": [
      "True\n"
     ]
    }
   ],
   "source": [
    "txt = \"Be you ! The world will adjust\"\n",
    "print(\"The\" in txt)"
   ]
  },
  {
   "cell_type": "code",
   "execution_count": 21,
   "id": "dde355e6-78fe-4a1a-9644-ebd2dbe59434",
   "metadata": {},
   "outputs": [
    {
     "name": "stdout",
     "output_type": "stream",
     "text": [
      "yes, 'The' is present.\n"
     ]
    }
   ],
   "source": [
    "txt = \"Be you ! The world will adjust\"\n",
    "if \"The\" in txt:\n",
    "    print(\"yes, 'The' is present.\")"
   ]
  },
  {
   "cell_type": "code",
   "execution_count": 22,
   "id": "681a3f2b-542c-4852-adad-dbbcdaa1aa1e",
   "metadata": {},
   "outputs": [
    {
     "name": "stdout",
     "output_type": "stream",
     "text": [
      "jlmmhu\n"
     ]
    }
   ],
   "source": [
    "a = \"nknjhfemi,jlmmhujw\"\n",
    "print(a[-8:-2])"
   ]
  },
  {
   "cell_type": "code",
   "execution_count": 23,
   "id": "65aa6df7-d374-450a-bac3-a8d0d539f609",
   "metadata": {},
   "outputs": [
    {
     "name": "stdout",
     "output_type": "stream",
     "text": [
      "I want 30 apples, 60 mangoes and 50 bananas.\n"
     ]
    }
   ],
   "source": [
    "apple = 30\n",
    "mango = 60\n",
    "banana = 50\n",
    "total = \"I want {} apples, {} mangoes and {} bananas.\"\n",
    "print(total.format(apple, mango, banana))"
   ]
  },
  {
   "cell_type": "code",
   "execution_count": 24,
   "id": "893ca4aa-e752-4e64-8a84-a4253e8309f9",
   "metadata": {},
   "outputs": [
    {
     "name": "stdout",
     "output_type": "stream",
     "text": [
      "I want to do job after 15 standard at 21 years old in the year 2022.\n"
     ]
    }
   ],
   "source": [
    "age = 21\n",
    "standard = 15\n",
    "year = 2022\n",
    "doing = \"I want to do job after {1} standard at {0} years old in the year {2}.\"\n",
    "print(doing.format(age, standard, year))"
   ]
  },
  {
   "cell_type": "code",
   "execution_count": null,
   "id": "8a366887-f4e7-4ba1-9603-474253016b26",
   "metadata": {},
   "outputs": [],
   "source": []
  },
  {
   "cell_type": "code",
   "execution_count": 25,
   "id": "3a8930b1-f2b8-4f55-a751-4517f5e96c31",
   "metadata": {},
   "outputs": [
    {
     "data": {
      "text/plain": [
       "3"
      ]
     },
     "execution_count": 25,
     "metadata": {},
     "output_type": "execute_result"
    }
   ],
   "source": [
    "round(2.555)"
   ]
  },
  {
   "cell_type": "code",
   "execution_count": 26,
   "id": "a0df9aea-237d-4c60-ba0e-e51e63160632",
   "metadata": {},
   "outputs": [
    {
     "data": {
      "text/plain": [
       "3.14"
      ]
     },
     "execution_count": 26,
     "metadata": {},
     "output_type": "execute_result"
    }
   ],
   "source": [
    "abs(3.14)"
   ]
  },
  {
   "cell_type": "code",
   "execution_count": 29,
   "id": "a76cdfa7-14c6-4ed7-a259-a1e5193a27ae",
   "metadata": {},
   "outputs": [
    {
     "data": {
      "text/plain": [
       "False"
      ]
     },
     "execution_count": 29,
     "metadata": {},
     "output_type": "execute_result"
    }
   ],
   "source": [
    "x =\"apple\"\n",
    "y = \"p\"\n",
    "y not in x"
   ]
  },
  {
   "cell_type": "code",
   "execution_count": 30,
   "id": "d7fb64a1-c8d4-4415-a347-2867612007d7",
   "metadata": {},
   "outputs": [
    {
     "name": "stdout",
     "output_type": "stream",
     "text": [
      "<class 'list'>\n"
     ]
    }
   ],
   "source": [
    "mylist = [\"apple\", \"banana\", \"cherry\", \"apple\", \"cherry\"]\n",
    "print(type(mylist))"
   ]
  },
  {
   "cell_type": "code",
   "execution_count": 31,
   "id": "b34a8128-d5b0-4cba-9d8c-bd10b9f8e8d9",
   "metadata": {},
   "outputs": [
    {
     "name": "stdout",
     "output_type": "stream",
     "text": [
      "['apple', 'banana', 'cherry']\n",
      "[1, 5, 7, 9, 3]\n",
      "[True, False, False]\n"
     ]
    }
   ],
   "source": [
    "list1 = [\"apple\", \"banana\", \"cherry\"]\n",
    "list2 = [1, 5, 7, 9, 3]\n",
    "list3 = [True, False, False]\n",
    "print(list1)\n",
    "print(list2)\n",
    "print(list3)"
   ]
  },
  {
   "cell_type": "code",
   "execution_count": 32,
   "id": "118dd40c-bf5b-492b-862b-ca06537e3338",
   "metadata": {},
   "outputs": [
    {
     "name": "stdout",
     "output_type": "stream",
     "text": [
      "['abc', 34, True, 40, 'male']\n"
     ]
    }
   ],
   "source": [
    "list1 = [\"abc\", 34, True, 40, \"male\"]\n",
    "print(list1)"
   ]
  },
  {
   "cell_type": "code",
   "execution_count": 33,
   "id": "c093eb15-26fb-419a-960d-1ed0941b051f",
   "metadata": {},
   "outputs": [
    {
     "name": "stdout",
     "output_type": "stream",
     "text": [
      "<class 'tuple'>\n",
      "<class 'tuple'>\n",
      "<class 'tuple'>\n"
     ]
    }
   ],
   "source": [
    "list1 = \"apple\", \"banana\", \"cherry\"\n",
    "list2 = 1, 5, 7, 9, 3\n",
    "list3 = True, False, False\n",
    "print(type(list1))\n",
    "print(type(list2))\n",
    "print(type(list3))"
   ]
  },
  {
   "cell_type": "code",
   "execution_count": 34,
   "id": "2180fe3d-fb5f-49ca-8199-64b6c788bad6",
   "metadata": {},
   "outputs": [
    {
     "name": "stdout",
     "output_type": "stream",
     "text": [
      "['apple', 'banana', 'cherry']\n"
     ]
    }
   ],
   "source": [
    "thislist = list((\"apple\", \"banana\", \"cherry\")) \n",
    "print(thislist)"
   ]
  },
  {
   "cell_type": "code",
   "execution_count": 35,
   "id": "dd29bd78-4d3c-487f-9051-34f614f67ecd",
   "metadata": {},
   "outputs": [
    {
     "name": "stdout",
     "output_type": "stream",
     "text": [
      "banana\n"
     ]
    }
   ],
   "source": [
    "thislist = [\"apple\", \"banana\", \"cherry\"]\n",
    "print(thislist[1])"
   ]
  },
  {
   "cell_type": "code",
   "execution_count": 36,
   "id": "c6a9e158-5880-4e08-a0f0-08c296821de8",
   "metadata": {},
   "outputs": [
    {
     "name": "stdout",
     "output_type": "stream",
     "text": [
      "cherry\n"
     ]
    }
   ],
   "source": [
    "thislist = [\"apple\", \"banana\", \"cherry\"]\n",
    "print(thislist[-1])"
   ]
  },
  {
   "cell_type": "code",
   "execution_count": 37,
   "id": "ed2d582d-316b-46bd-978b-8f3d12b21cc7",
   "metadata": {},
   "outputs": [
    {
     "name": "stdout",
     "output_type": "stream",
     "text": [
      "['cherry', 'orange', 'kiwi']\n"
     ]
    }
   ],
   "source": [
    "thislist = [\"apple\", \"banana\", \"cherry\", \"orange\", \"kiwi\", \"melon\", \"mango\"]\n",
    "print(thislist[2:5])"
   ]
  },
  {
   "cell_type": "code",
   "execution_count": 38,
   "id": "9c3a88a5-a2e9-4492-bca7-baa7ae6ef9be",
   "metadata": {},
   "outputs": [
    {
     "name": "stdout",
     "output_type": "stream",
     "text": [
      "['cherry', 'orange', 'kiwi', 'melon', 'mango']\n"
     ]
    }
   ],
   "source": [
    "thislist = [\"apple\", \"banana\", \"cherry\", \"orange\", \"kiwi\", \"melon\", \"mango\"]\n",
    "print(thislist[2:])\n"
   ]
  },
  {
   "cell_type": "code",
   "execution_count": 39,
   "id": "8b212718-fd77-422a-b65a-7a0b632c66e1",
   "metadata": {},
   "outputs": [
    {
     "name": "stdout",
     "output_type": "stream",
     "text": [
      "['orange', 'kiwi', 'melon']\n"
     ]
    }
   ],
   "source": [
    "thislist = [\"apple\", \"banana\", \"cherry\", \"orange\", \"kiwi\", \"melon\", \"mango\"]\n",
    "print(thislist[-4:-1])"
   ]
  },
  {
   "cell_type": "code",
   "execution_count": 40,
   "id": "9542b14d-b6a2-4fc2-877c-dbc545e5b6e7",
   "metadata": {},
   "outputs": [
    {
     "name": "stdout",
     "output_type": "stream",
     "text": [
      "yes,'cherry' is in my list\n"
     ]
    }
   ],
   "source": [
    "mylist = [\"apple\", \"banana\", \"kiwi\"]\n",
    "if \"cherry\" not in mylist:\n",
    "    print(\"yes,'cherry' is in my list\")"
   ]
  },
  {
   "cell_type": "code",
   "execution_count": 41,
   "id": "2502fa14-424b-43bb-997d-710284d2e0d6",
   "metadata": {},
   "outputs": [
    {
     "name": "stdout",
     "output_type": "stream",
     "text": [
      "['apple', 'blackcurrant', 'cherry']\n"
     ]
    }
   ],
   "source": [
    "thislist = [\"apple\", \"banana\", \"cherry\"]\n",
    "thislist[1] = \"blackcurrant\"\n",
    "print(thislist)"
   ]
  },
  {
   "cell_type": "code",
   "execution_count": 42,
   "id": "0fd1a7fe-0a33-4b4e-a1ba-7391bcdf6a6a",
   "metadata": {},
   "outputs": [
    {
     "name": "stdout",
     "output_type": "stream",
     "text": [
      "['apple', 'blackcurrant', 'watermelon', 'orange', 'kiwi', 'mango']\n"
     ]
    }
   ],
   "source": [
    "thislist = [\"apple\", \"banana\", \"cherry\", \"orange\", \"kiwi\", \"mango\"]\n",
    "thislist[1:3] = [\"blackcurrant\", \"watermelon\"]\n",
    "print(thislist)"
   ]
  },
  {
   "cell_type": "code",
   "execution_count": 43,
   "id": "ec93805b-d72c-46a0-8bf2-ae23036811cc",
   "metadata": {},
   "outputs": [
    {
     "name": "stdout",
     "output_type": "stream",
     "text": [
      "['apple', 'blackcurrant', 'watermelon', 'cherry']\n"
     ]
    }
   ],
   "source": [
    "thislist = [\"apple\", \"banana\", \"cherry\"]\n",
    "thislist[1:2] = [\"blackcurrant\", \"watermelon\"]\n",
    "print(thislist)"
   ]
  },
  {
   "cell_type": "code",
   "execution_count": 44,
   "id": "aac518b8-cdd9-4043-be5e-5af758082fae",
   "metadata": {},
   "outputs": [
    {
     "name": "stdout",
     "output_type": "stream",
     "text": [
      "['apple', 'watermelon']\n"
     ]
    }
   ],
   "source": [
    "thislist = [\"apple\", \"banana\", \"cherry\"]\n",
    "thislist[1:3] = [\"watermelon\"]\n",
    "print(thislist)"
   ]
  },
  {
   "cell_type": "code",
   "execution_count": 45,
   "id": "1a5354b2-7afe-419c-91a2-2039a5239bd4",
   "metadata": {},
   "outputs": [
    {
     "name": "stdout",
     "output_type": "stream",
     "text": [
      "['apple', 'watermelon', 'banana', 'cherry']\n"
     ]
    }
   ],
   "source": [
    "thislist = [\"apple\", \"banana\", \"cherry\"]\n",
    "thislist.insert(1, \"watermelon\")\n",
    "print(thislist)"
   ]
  },
  {
   "cell_type": "code",
   "execution_count": 46,
   "id": "29135bd0-0084-4d74-8ac6-033f3202aeb8",
   "metadata": {},
   "outputs": [
    {
     "name": "stdout",
     "output_type": "stream",
     "text": [
      "['apple', 'banana', 'cherry', 'orange']\n"
     ]
    }
   ],
   "source": [
    "thislist = [\"apple\", \"banana\", \"cherry\"]\n",
    "thislist.append(\"orange\")\n",
    "print(thislist)"
   ]
  },
  {
   "cell_type": "code",
   "execution_count": 47,
   "id": "01602b7f-fafb-456e-9422-451cc594e1f0",
   "metadata": {},
   "outputs": [
    {
     "name": "stdout",
     "output_type": "stream",
     "text": [
      "['apple', 'orange', 'banana', 'cherry']\n"
     ]
    }
   ],
   "source": [
    "thislist = [\"apple\", \"banana\", \"cherry\"]\n",
    "thislist.insert(1, \"orange\")\n",
    "print(thislist)"
   ]
  },
  {
   "cell_type": "code",
   "execution_count": 48,
   "id": "7a8625ca-3374-4c2b-b77f-d78897357b91",
   "metadata": {},
   "outputs": [
    {
     "name": "stdout",
     "output_type": "stream",
     "text": [
      "['apple', 'banana', 'mango', 'cherry', 'grapes', 'litchi']\n"
     ]
    }
   ],
   "source": [
    "x = [\"apple\", \"banana\", \"mango\"]\n",
    "y = (\"cherry\", \"grapes\", \"litchi\")\n",
    "x.extend(y)\n",
    "print(x)"
   ]
  },
  {
   "cell_type": "code",
   "execution_count": 49,
   "id": "d45997e6-fa0f-49d4-a269-b9feb01010ee",
   "metadata": {},
   "outputs": [
    {
     "name": "stdout",
     "output_type": "stream",
     "text": [
      "['apple', 'orange', 'mango']\n"
     ]
    }
   ],
   "source": [
    "x = [\"apple\", \"cake\", \"orange\", \"mango\"]\n",
    "x.remove(\"cake\")\n",
    "print(x)"
   ]
  },
  {
   "cell_type": "code",
   "execution_count": 50,
   "id": "4e9ba88b-f1d7-4805-b035-f318f00884fe",
   "metadata": {},
   "outputs": [
    {
     "name": "stdout",
     "output_type": "stream",
     "text": [
      "['apple', 'cake', 'orange']\n"
     ]
    }
   ],
   "source": [
    "x = [\"apple\", \"cake\", \"orange\", \"mango\"]\n",
    "x.pop()\n",
    "print(x)"
   ]
  },
  {
   "cell_type": "code",
   "execution_count": 51,
   "id": "dda5fb15-a56a-4d86-b4f6-cceca95a649b",
   "metadata": {},
   "outputs": [],
   "source": [
    "x = [\"apple\", \"cake\", \"orange\", \"mango\"]\n",
    "del x\n"
   ]
  },
  {
   "cell_type": "code",
   "execution_count": 52,
   "id": "5c02d253-80b7-4e2c-8cfd-732486602448",
   "metadata": {},
   "outputs": [
    {
     "name": "stdout",
     "output_type": "stream",
     "text": [
      "['apple', 'cake', 'orange', 'mango']\n",
      "['apple', 'cake', 'orange', 'mango']\n",
      "['apple', 'cake', 'orange', 'mango']\n",
      "['apple', 'cake', 'orange', 'mango']\n"
     ]
    }
   ],
   "source": [
    "y = [\"apple\", \"cake\", \"orange\", \"mango\"]\n",
    "for x in y:\n",
    " print(y)"
   ]
  },
  {
   "cell_type": "code",
   "execution_count": 53,
   "id": "efed867d-0bb6-452a-9710-7453435846fe",
   "metadata": {},
   "outputs": [
    {
     "name": "stdout",
     "output_type": "stream",
     "text": [
      "apple\n",
      "cake\n",
      "orange\n",
      "mango\n"
     ]
    }
   ],
   "source": [
    "x = [\"apple\", \"cake\", \"orange\", \"mango\"]\n",
    "for i in range(len(x)):\n",
    "    print(x[i])"
   ]
  },
  {
   "cell_type": "code",
   "execution_count": 54,
   "id": "8d9a5cfa-0ee2-4f70-98d8-dd24db4eea54",
   "metadata": {},
   "outputs": [
    {
     "name": "stdout",
     "output_type": "stream",
     "text": [
      "Hello python\n"
     ]
    }
   ],
   "source": [
    "print(\"Hello python\")"
   ]
  },
  {
   "cell_type": "code",
   "execution_count": 55,
   "id": "19ed7f62-0324-4463-bfcb-9de5ff115b15",
   "metadata": {},
   "outputs": [
    {
     "name": "stdout",
     "output_type": "stream",
     "text": [
      "90\n"
     ]
    }
   ],
   "source": [
    "a = 10\n",
    "b = 80\n",
    "c = a + b\n",
    "print(c)"
   ]
  },
  {
   "cell_type": "code",
   "execution_count": 56,
   "id": "8b8b58a7-2d07-4e6e-a90d-c62438700afc",
   "metadata": {},
   "outputs": [
    {
     "name": "stdout",
     "output_type": "stream",
     "text": [
      "4\n"
     ]
    }
   ],
   "source": [
    "def maximum(a, b):\n",
    " if a >=b:\n",
    "    return a\n",
    " else:\n",
    "    return b\n",
    "a = 2\n",
    "b = 4\n",
    "print(maximum(a, b))"
   ]
  },
  {
   "cell_type": "code",
   "execution_count": 57,
   "id": "538b9814-31bd-4406-b4dc-f430f8711295",
   "metadata": {},
   "outputs": [
    {
     "name": "stdout",
     "output_type": "stream",
     "text": [
      "4\n"
     ]
    }
   ],
   "source": [
    "a = 2\n",
    "b = 4\n",
    "maximum = max(a, b)\n",
    "print(maximum)"
   ]
  },
  {
   "cell_type": "code",
   "execution_count": 58,
   "id": "def2c70b-6d2c-42df-8133-0686fcf7c66f",
   "metadata": {},
   "outputs": [
    {
     "name": "stdout",
     "output_type": "stream",
     "text": [
      "factorial of 5 is 120\n"
     ]
    }
   ],
   "source": [
    "def factorial(n):\n",
    "    return 1 if (n==1 or n==0) else n*factorial(n-1);\n",
    "num = 5;\n",
    "print(\"factorial of\",num,\"is\",factorial(num))\n",
    "    "
   ]
  },
  {
   "cell_type": "code",
   "execution_count": 59,
   "id": "76f8f8e2-29cf-4ce7-b8d0-5103cf681327",
   "metadata": {},
   "outputs": [
    {
     "name": "stdout",
     "output_type": "stream",
     "text": [
      "the Principal is: 7\n",
      "The time period is 5\n",
      "The rate of interest is 6\n",
      "The Simple Interest is 2.1\n"
     ]
    },
    {
     "data": {
      "text/plain": [
       "2.1"
      ]
     },
     "execution_count": 59,
     "metadata": {},
     "output_type": "execute_result"
    }
   ],
   "source": [
    "def simple_interest(p, t, r):\n",
    "    print('the Principal is:',p)\n",
    "    print('The time period is', t)\n",
    "    print('The rate of interest is',r)\n",
    "      \n",
    "    si = (p * t * r)/100\n",
    "      \n",
    "    print('The Simple Interest is', si)\n",
    "    return si\n",
    "simple_interest(7, 5, 6)"
   ]
  },
  {
   "cell_type": "code",
   "execution_count": 60,
   "id": "b16168ce-367e-439f-a0dc-c34bab19d3c5",
   "metadata": {},
   "outputs": [
    {
     "name": "stdout",
     "output_type": "stream",
     "text": [
      "knight's\n"
     ]
    }
   ],
   "source": [
    "print(\"knight's\")"
   ]
  },
  {
   "cell_type": "code",
   "execution_count": 61,
   "id": "ab7201c6-ef70-4f21-9202-8a63a412a53e",
   "metadata": {},
   "outputs": [
    {
     "name": "stdout",
     "output_type": "stream",
     "text": [
      "night\"s\n"
     ]
    }
   ],
   "source": [
    "print('night\"s')"
   ]
  },
  {
   "cell_type": "code",
   "execution_count": 62,
   "id": "f9239516-9a44-4506-a7c6-1ab45f0b15be",
   "metadata": {},
   "outputs": [
    {
     "name": "stdout",
     "output_type": "stream",
     "text": [
      "\n"
     ]
    }
   ],
   "source": [
    "aa = \"SLICEOFSPAM\"\n",
    "print(aa[-3:-5])"
   ]
  },
  {
   "cell_type": "code",
   "execution_count": 63,
   "id": "edda6946-aefc-454d-8b69-428b05cb8d7b",
   "metadata": {},
   "outputs": [
    {
     "name": "stdout",
     "output_type": "stream",
     "text": [
      "hello there\n"
     ]
    }
   ],
   "source": [
    "x = \"hello\"\n",
    "x = x+ \" \" +\"there\"\n",
    "print(x)"
   ]
  },
  {
   "cell_type": "code",
   "execution_count": 64,
   "id": "78edc50e-55e0-4b95-9d49-7ae6a3b69858",
   "metadata": {},
   "outputs": [
    {
     "data": {
      "text/plain": [
       "10"
      ]
     },
     "execution_count": 64,
     "metadata": {},
     "output_type": "execute_result"
    }
   ],
   "source": [
    "a=10\n",
    "a"
   ]
  },
  {
   "cell_type": "code",
   "execution_count": 65,
   "id": "21dcee18-37bd-4a6c-89af-31406d969027",
   "metadata": {},
   "outputs": [
    {
     "data": {
      "text/plain": [
       "150"
      ]
     },
     "execution_count": 65,
     "metadata": {},
     "output_type": "execute_result"
    }
   ],
   "source": [
    "a= 60+90\n",
    "a"
   ]
  },
  {
   "cell_type": "code",
   "execution_count": 2,
   "id": "7deedb70-bb26-440c-9a05-d8f4ec2a864b",
   "metadata": {},
   "outputs": [
    {
     "name": "stdout",
     "output_type": "stream",
     "text": [
      "please enter the number:5\n"
     ]
    }
   ],
   "source": [
    "num = int(input(\"please enter the number:\"))\n",
    "if num > 1:\n",
    "           \n",
    "    for i in range(2,num//2):\n",
    "        \n",
    "        if (num % i) ==0:\n",
    "           print(num,\"is not a prime number\")\n",
    "           break\n",
    "                 \n",
    "        else:\n",
    "           print(num,\"is a prime number\")\n",
    "else:\n",
    "   print(num,\"is not a prime number\")"
   ]
  },
  {
   "cell_type": "code",
   "execution_count": 67,
   "id": "e1ec4949-5492-47d5-82e2-233c9603a3d8",
   "metadata": {},
   "outputs": [
    {
     "name": "stdout",
     "output_type": "stream",
     "text": [
      "Result: [2, 4, 6, 8, 10, 12, 14, 16, 18]\n"
     ]
    }
   ],
   "source": [
    "even_no = [i for i in range(1,20) if i%2==0]\n",
    " \n",
    "print(\"Result:\", even_no)"
   ]
  },
  {
   "cell_type": "code",
   "execution_count": 68,
   "id": "23850dcc-5f5f-4ce2-8a40-9cbfe44feb1a",
   "metadata": {},
   "outputs": [
    {
     "name": "stdout",
     "output_type": "stream",
     "text": [
      "Result: [1, 3, 5, 7, 9, 11, 13, 15, 17, 19, 21, 23, 25, 27, 29, 31, 33, 35, 37, 39, 41, 43, 45, 47, 49, 51, 53, 55, 57, 59, 61, 63, 65, 67, 69, 71, 73, 75, 77, 79, 81, 83, 85, 87, 89, 91, 93, 95, 97, 99]\n"
     ]
    }
   ],
   "source": [
    "odd_no = [x for x in range(1,100) if x%2!=0]\n",
    "print(\"Result:\",odd_no)"
   ]
  },
  {
   "cell_type": "code",
   "execution_count": 3,
   "id": "ac72778f-3067-4cc9-91fa-d786accdbe25",
   "metadata": {},
   "outputs": [
    {
     "name": "stdout",
     "output_type": "stream",
     "text": [
      "enter a number:5\n",
      "5 is a odd number\n"
     ]
    }
   ],
   "source": [
    "num = int(input(\"enter a number:\"))\n",
    "if (num%2) ==0:\n",
    "    print(num, \"is a even number\")\n",
    "else:\n",
    "    print(num,\"is a odd number\")"
   ]
  },
  {
   "cell_type": "code",
   "execution_count": 70,
   "id": "501f3dc1-c63b-46ea-a71b-5ae4b83941f4",
   "metadata": {},
   "outputs": [],
   "source": [
    "a = ['spam', 'eggs', 100, 1234, 2*2]\n",
    "a[2] = a[2] + 23"
   ]
  },
  {
   "cell_type": "code",
   "execution_count": 72,
   "id": "c803f6e6-c35e-448f-9c68-9d4c541d7f32",
   "metadata": {},
   "outputs": [
    {
     "name": "stdout",
     "output_type": "stream",
     "text": [
      "range(0, 4)\n"
     ]
    }
   ],
   "source": [
    "print(range(4))"
   ]
  },
  {
   "cell_type": "code",
   "execution_count": 73,
   "id": "125fef3a-b42f-413c-a934-14fc91104d82",
   "metadata": {},
   "outputs": [
    {
     "name": "stdout",
     "output_type": "stream",
     "text": [
      "3\n",
      "range(0, 3)\n",
      "happy new year: Joseph\n",
      "happy new year: Glenn\n",
      "happy new year: Sally\n",
      "3\n",
      "0\n",
      "happy new year: Joseph\n",
      "3\n",
      "1\n",
      "happy new year: Glenn\n",
      "3\n",
      "2\n",
      "happy new year: Sally\n"
     ]
    }
   ],
   "source": [
    "x = ['Joseph', 'Glenn', 'Sally']\n",
    "print(len(x))\n",
    "print(range(len(x)))\n",
    "for i in x:\n",
    "    print('happy new year:', i)\n",
    "for y in range(len(x)):\n",
    "    print(len(x))\n",
    "    print(y)\n",
    "    i = x[y]\n",
    "    print('happy new year:', i)"
   ]
  },
  {
   "cell_type": "code",
   "execution_count": 74,
   "id": "93105686-f19c-4f17-83e6-42b65415789f",
   "metadata": {},
   "outputs": [
    {
     "name": "stdout",
     "output_type": "stream",
     "text": [
      "[1, 2, 3, 3, 4, 5, 6]\n"
     ]
    }
   ],
   "source": [
    "a= [1,2,3]\n",
    "b = [3,4,5,6]\n",
    "c=a+b\n",
    "print(c)"
   ]
  },
  {
   "cell_type": "code",
   "execution_count": 5,
   "id": "d352528e-f236-4d06-bc1f-5525e4fd8be4",
   "metadata": {},
   "outputs": [
    {
     "name": "stdout",
     "output_type": "stream",
     "text": [
      "enter a num:5\n",
      "enter a num:6\n",
      "enter a num:9\n",
      "enter a num:8\n",
      "enter a num:7\n",
      "enter a num:3\n",
      "enter a num:2\n",
      "enter a num:3\n",
      "enter a num:done\n"
     ]
    }
   ],
   "source": [
    "total = 0\n",
    "count = 0\n",
    "while True: \n",
    "    inp=input('enter a num:') \n",
    "    if inp=='done' : break \n",
    "    value = float(inp)\n",
    "    total = total + value \n",
    "    count = count + 1"
   ]
  },
  {
   "cell_type": "code",
   "execution_count": 76,
   "id": "ab952bec-dd3e-4c4f-9994-ee6bb2581ec3",
   "metadata": {},
   "outputs": [
    {
     "name": "stdout",
     "output_type": "stream",
     "text": [
      "0\n"
     ]
    }
   ],
   "source": [
    "print(count)"
   ]
  },
  {
   "cell_type": "code",
   "execution_count": 77,
   "id": "ee366ba7-e526-4e2b-8add-249a11ab972a",
   "metadata": {},
   "outputs": [
    {
     "name": "stdout",
     "output_type": "stream",
     "text": [
      "gmail.com\n"
     ]
    }
   ],
   "source": [
    "line = 'from salman.amir@gmail.com sat jan 5 09:14:16 2020'\n",
    "words = line.split()\n",
    "email = words[1]\n",
    "pieces = email.split('@')\n",
    "print(pieces[1])"
   ]
  },
  {
   "cell_type": "code",
   "execution_count": 78,
   "id": "4268ce4f-b443-44ab-8796-dba3b67e30cf",
   "metadata": {},
   "outputs": [
    {
     "data": {
      "text/plain": [
       "['From', 'salman.amir@gmail.com', 'sat', 'jan', '5', '09:14:16', '2020']"
      ]
     },
     "execution_count": 78,
     "metadata": {},
     "output_type": "execute_result"
    }
   ],
   "source": [
    "line = 'From salman.amir@gmail.com sat jan 5 09:14:16 2020'\n",
    "words = line.split()\n",
    "words"
   ]
  },
  {
   "cell_type": "code",
   "execution_count": 79,
   "id": "7695a798-7f0c-42cf-b67b-30b957952c99",
   "metadata": {},
   "outputs": [
    {
     "data": {
      "text/plain": [
       "'salman.amir@gmail.com'"
      ]
     },
     "execution_count": 79,
     "metadata": {},
     "output_type": "execute_result"
    }
   ],
   "source": [
    "email = words[1]\n",
    "email"
   ]
  },
  {
   "cell_type": "code",
   "execution_count": 80,
   "id": "ffe2fabf-296d-4fb2-a3e4-297b08137250",
   "metadata": {},
   "outputs": [
    {
     "name": "stdout",
     "output_type": "stream",
     "text": [
      "gmail.com\n"
     ]
    }
   ],
   "source": [
    "pieces = email.split('@')\n",
    "print(pieces[1])"
   ]
  },
  {
   "cell_type": "code",
   "execution_count": 81,
   "id": "1b4bcd4c-b94a-40b9-90d2-2556439f8ff1",
   "metadata": {},
   "outputs": [
    {
     "name": "stdout",
     "output_type": "stream",
     "text": [
      "None\n",
      "None\n",
      "None\n",
      "None\n",
      "None\n",
      "[1, 2, 3, '4', 5.0]\n"
     ]
    }
   ],
   "source": [
    "aa=[]\n",
    "print(aa.append(1))\n",
    "print(aa.append(2))\n",
    "print(aa.append(3))\n",
    "print(aa.append('4'))\n",
    "print(aa.append(5.0))\n",
    "print(aa)\n"
   ]
  },
  {
   "cell_type": "code",
   "execution_count": 82,
   "id": "7eb4731d-5d14-415c-a1d0-8a8ec2dceb9e",
   "metadata": {},
   "outputs": [
    {
     "name": "stdout",
     "output_type": "stream",
     "text": [
      "Hello from a function. \n"
     ]
    }
   ],
   "source": [
    "def my_function():\n",
    "    print(\"Hello from a function. \")\n",
    "my_function()"
   ]
  },
  {
   "cell_type": "code",
   "execution_count": 83,
   "id": "2a3931b3-ef7a-40c1-99fe-1b93851e7ef3",
   "metadata": {},
   "outputs": [
    {
     "name": "stdout",
     "output_type": "stream",
     "text": [
      "Emil name 60 age\n",
      "Tobias name 50 age\n",
      "Linus name 20 age\n"
     ]
    }
   ],
   "source": [
    "def my_function(fname,fage):\n",
    "    print(fname + \"name\" , fage + \" age\")\n",
    "my_function(\"Emil\"+\" \",\"60\")\n",
    "my_function(\"Tobias\"+\" \",\"50\")\n",
    "my_function(\"Linus\"+\" \",\"20\")"
   ]
  },
  {
   "cell_type": "code",
   "execution_count": 84,
   "id": "54eba482",
   "metadata": {},
   "outputs": [
    {
     "name": "stdout",
     "output_type": "stream",
     "text": [
      "The youngest child is sivanee\n"
     ]
    }
   ],
   "source": [
    "def my_function(*kids):\n",
    "    print(\"The youngest child is \" + kids[0])\n",
    "my_function(\"sivanee\",\"chichi\",\"smooch\")\n",
    "    "
   ]
  },
  {
   "cell_type": "code",
   "execution_count": 85,
   "id": "71a01e75",
   "metadata": {},
   "outputs": [
    {
     "name": "stdout",
     "output_type": "stream",
     "text": [
      "The youngest child is sivanee\n"
     ]
    }
   ],
   "source": [
    "def my_function(child1,child2,child3):\n",
    "    print(\"The youngest child is \" + child1)\n",
    "my_function(child1 = \"sivanee\",child2 = \"chichi\",child3 = \"smooch\")"
   ]
  },
  {
   "cell_type": "code",
   "execution_count": 86,
   "id": "9029d4d1",
   "metadata": {},
   "outputs": [
    {
     "name": "stdout",
     "output_type": "stream",
     "text": [
      "I am from Sweden\n",
      "I am from India\n",
      "I am from USA\n",
      "I am from Brazil\n"
     ]
    }
   ],
   "source": [
    "def your_function(country = \"USA\"):\n",
    "    print(\"I am from \" + country)\n",
    "your_function(\"Sweden\")\n",
    "your_function(\"India\")\n",
    "your_function()\n",
    "your_function(\"Brazil\")"
   ]
  },
  {
   "cell_type": "code",
   "execution_count": 87,
   "id": "e09bef5b",
   "metadata": {},
   "outputs": [
    {
     "name": "stdout",
     "output_type": "stream",
     "text": [
      "noodles\n",
      "maggie\n",
      "rool\n"
     ]
    }
   ],
   "source": [
    "def my_function(food):\n",
    "    for x in food:\n",
    "        print(x)\n",
    "foods = [\"noodles\",\"maggie\",\"rool\"]\n",
    "my_function(foods)"
   ]
  },
  {
   "cell_type": "code",
   "execution_count": 88,
   "id": "06ac803f",
   "metadata": {},
   "outputs": [
    {
     "name": "stdout",
     "output_type": "stream",
     "text": [
      "100\n",
      "330\n",
      "1500\n"
     ]
    }
   ],
   "source": [
    "def my_function(x):\n",
    "    return 5 * x\n",
    "\n",
    "print(my_function(20))\n",
    "print(my_function(66))\n",
    "print(my_function(300))    "
   ]
  },
  {
   "cell_type": "code",
   "execution_count": 89,
   "id": "743df20b",
   "metadata": {},
   "outputs": [],
   "source": [
    "def my_function():\n",
    "    pass"
   ]
  },
  {
   "cell_type": "code",
   "execution_count": 90,
   "id": "388fabea",
   "metadata": {},
   "outputs": [
    {
     "name": "stdout",
     "output_type": "stream",
     "text": [
      "500.75\n"
     ]
    }
   ],
   "source": [
    "x = lambda a,b,c,d:a*b+c/d\n",
    "print(x(10,50,60,80))"
   ]
  },
  {
   "cell_type": "code",
   "execution_count": 91,
   "id": "da63c760",
   "metadata": {},
   "outputs": [
    {
     "name": "stdout",
     "output_type": "stream",
     "text": [
      "22\n"
     ]
    }
   ],
   "source": [
    "def myfunc(n):\n",
    "  return lambda a : a * n\n",
    "\n",
    "mydoubler = myfunc(2)\n",
    "\n",
    "print(mydoubler(11))"
   ]
  },
  {
   "cell_type": "code",
   "execution_count": 92,
   "id": "b5947061",
   "metadata": {},
   "outputs": [
    {
     "name": "stdout",
     "output_type": "stream",
     "text": [
      "33\n"
     ]
    }
   ],
   "source": [
    "def myfunc(n):\n",
    "  return lambda a : a * n\n",
    "\n",
    "mytripler = myfunc(3)\n",
    "\n",
    "print(mytripler(11))"
   ]
  },
  {
   "cell_type": "code",
   "execution_count": 93,
   "id": "d094c401",
   "metadata": {},
   "outputs": [
    {
     "name": "stdout",
     "output_type": "stream",
     "text": [
      "22\n",
      "33\n"
     ]
    }
   ],
   "source": [
    "def myfunc(n):\n",
    "  return lambda a : a * n\n",
    "\n",
    "mydoubler = myfunc(2)\n",
    "mytripler = myfunc(3)\n",
    "\n",
    "print(mydoubler(11))\n",
    "print(mytripler(11))"
   ]
  },
  {
   "cell_type": "code",
   "execution_count": 94,
   "id": "55ad8171",
   "metadata": {},
   "outputs": [],
   "source": [
    "cars = [\"Ford\",\"Volvo\",\"Bmw\"]"
   ]
  },
  {
   "cell_type": "code",
   "execution_count": 95,
   "id": "df7b4711",
   "metadata": {},
   "outputs": [],
   "source": [
    "car1 = \"Ford\"\n",
    "car2 = \"Volvo\"\n",
    "car3 = \"Bmw\""
   ]
  },
  {
   "cell_type": "code",
   "execution_count": 96,
   "id": "b90d967f",
   "metadata": {},
   "outputs": [],
   "source": [
    "x = cars[0]"
   ]
  },
  {
   "cell_type": "code",
   "execution_count": 97,
   "id": "6733729f",
   "metadata": {},
   "outputs": [],
   "source": [
    "cars[0] = \"TOYOta\""
   ]
  },
  {
   "cell_type": "code",
   "execution_count": 98,
   "id": "42a65ed2",
   "metadata": {},
   "outputs": [],
   "source": [
    "x = len(cars)"
   ]
  },
  {
   "cell_type": "code",
   "execution_count": 99,
   "id": "b213f3e2",
   "metadata": {},
   "outputs": [
    {
     "name": "stdout",
     "output_type": "stream",
     "text": [
      "TOYOta\n",
      "Volvo\n",
      "Bmw\n"
     ]
    }
   ],
   "source": [
    "for x in cars:\n",
    "    print(x)"
   ]
  },
  {
   "cell_type": "code",
   "execution_count": 100,
   "id": "53b86b49",
   "metadata": {},
   "outputs": [],
   "source": [
    "cars.append(\"Honda\")"
   ]
  },
  {
   "cell_type": "code",
   "execution_count": 101,
   "id": "3e410001",
   "metadata": {},
   "outputs": [
    {
     "name": "stdout",
     "output_type": "stream",
     "text": [
      "TOYOta\n",
      "Volvo\n",
      "Bmw\n",
      "Honda\n"
     ]
    }
   ],
   "source": [
    "for x in cars:\n",
    "    print(x)"
   ]
  },
  {
   "cell_type": "code",
   "execution_count": 102,
   "id": "96eb2541",
   "metadata": {},
   "outputs": [
    {
     "data": {
      "text/plain": [
       "'Honda'"
      ]
     },
     "execution_count": 102,
     "metadata": {},
     "output_type": "execute_result"
    }
   ],
   "source": [
    "cars.pop(1)\n",
    "x"
   ]
  },
  {
   "cell_type": "code",
   "execution_count": 103,
   "id": "af812145",
   "metadata": {},
   "outputs": [
    {
     "data": {
      "text/plain": [
       "'Honda'"
      ]
     },
     "execution_count": 103,
     "metadata": {},
     "output_type": "execute_result"
    }
   ],
   "source": [
    "cars.append(\"Honda\")\n",
    "x"
   ]
  },
  {
   "cell_type": "code",
   "execution_count": 104,
   "id": "2c7f30f5",
   "metadata": {},
   "outputs": [
    {
     "data": {
      "text/plain": [
       "'Honda'"
      ]
     },
     "execution_count": 104,
     "metadata": {},
     "output_type": "execute_result"
    }
   ],
   "source": [
    "cars.append(\"Audi\")\n",
    "x"
   ]
  },
  {
   "cell_type": "code",
   "execution_count": 105,
   "id": "7e06a05f",
   "metadata": {},
   "outputs": [
    {
     "name": "stdout",
     "output_type": "stream",
     "text": [
      "TOYOta\n",
      "Bmw\n",
      "Honda\n",
      "Honda\n",
      "Audi\n"
     ]
    }
   ],
   "source": [
    "for x in cars:\n",
    "    print(x)"
   ]
  },
  {
   "cell_type": "code",
   "execution_count": 106,
   "id": "ec782c49",
   "metadata": {},
   "outputs": [
    {
     "name": "stdout",
     "output_type": "stream",
     "text": [
      "Audi\n"
     ]
    }
   ],
   "source": [
    "cars.copy()\n",
    "print(x)\n",
    "    "
   ]
  },
  {
   "cell_type": "code",
   "execution_count": 107,
   "id": "2328b849",
   "metadata": {},
   "outputs": [
    {
     "data": {
      "text/plain": [
       "'Audi'"
      ]
     },
     "execution_count": 107,
     "metadata": {},
     "output_type": "execute_result"
    }
   ],
   "source": [
    "cars.count(x)\n",
    "x"
   ]
  },
  {
   "cell_type": "code",
   "execution_count": 108,
   "id": "418110d7",
   "metadata": {},
   "outputs": [
    {
     "data": {
      "text/plain": [
       "'Audi'"
      ]
     },
     "execution_count": 108,
     "metadata": {},
     "output_type": "execute_result"
    }
   ],
   "source": [
    "cars.reverse()\n",
    "x"
   ]
  },
  {
   "cell_type": "code",
   "execution_count": 109,
   "id": "ce97764f",
   "metadata": {},
   "outputs": [
    {
     "data": {
      "text/plain": [
       "'Audi'"
      ]
     },
     "execution_count": 109,
     "metadata": {},
     "output_type": "execute_result"
    }
   ],
   "source": [
    "cars.sort()\n",
    "x"
   ]
  },
  {
   "cell_type": "code",
   "execution_count": 110,
   "id": "c5883dc8",
   "metadata": {},
   "outputs": [
    {
     "name": "stdout",
     "output_type": "stream",
     "text": [
      "<class '__main__.MyClass'>\n"
     ]
    }
   ],
   "source": [
    "class MyClass:\n",
    "    x = 5\n",
    "print(MyClass)"
   ]
  },
  {
   "cell_type": "code",
   "execution_count": 111,
   "id": "30291c3e",
   "metadata": {},
   "outputs": [
    {
     "name": "stdout",
     "output_type": "stream",
     "text": [
      "5\n"
     ]
    }
   ],
   "source": [
    "p1 = MyClass()\n",
    "print(p1.x)"
   ]
  },
  {
   "cell_type": "code",
   "execution_count": 112,
   "id": "257ecaf9",
   "metadata": {},
   "outputs": [
    {
     "name": "stdout",
     "output_type": "stream",
     "text": [
      "Sivanee 21   Chichi 22   Smooch 22   Tutul 23\n"
     ]
    }
   ],
   "source": [
    "class person:\n",
    "    def __init__(self,name,age):\n",
    "        self.name = name\n",
    "        self.age = age\n",
    "        \n",
    "p1 = person(\"Sivanee\", 21)\n",
    "p2 = person(\"Chichi\",22)\n",
    "p3 = person(\"Smooch\", 22)\n",
    "p4 = person(\"Tutul\", 23)\n",
    "print(p1.name,p1.age,\" \",p2.name,p2.age,\" \",p3.name,p3.age,\" \",p4.name,p4.age)"
   ]
  },
  {
   "cell_type": "code",
   "execution_count": 113,
   "id": "fc21bddb",
   "metadata": {},
   "outputs": [
    {
     "name": "stdout",
     "output_type": "stream",
     "text": [
      "Sivanee\n",
      "21\n"
     ]
    }
   ],
   "source": [
    "class Person:\n",
    "  def __init__(self, name, age):\n",
    "    self.name = name\n",
    "    self.age = age\n",
    "\n",
    "p1 = Person(\"Sivanee\", 21)\n",
    "\n",
    "print(p1.name)\n",
    "print(p1.age)"
   ]
  },
  {
   "cell_type": "code",
   "execution_count": 114,
   "id": "fd58cb3c",
   "metadata": {},
   "outputs": [
    {
     "name": "stdout",
     "output_type": "stream",
     "text": [
      "Hello my name is Sivanee\n",
      "Hello my age is 21\n",
      "Hello my name is Chichi\n",
      "Hello my age is 22\n",
      "Hello my name is Smooch\n",
      "Hello my age is 22\n",
      "Hello my name is Tutul\n",
      "Hello my age is 23\n"
     ]
    }
   ],
   "source": [
    "class Person:\n",
    "  def __init__(self, name, age):\n",
    "    self.name = name\n",
    "    self.age = age\n",
    "\n",
    "  def myfunc(self):\n",
    "    print(\"Hello my name is \" + self.name)\n",
    "    print(\"Hello my age is \" + str(self.age))\n",
    "p1 = Person(\"Sivanee\", 21)\n",
    "p2 = Person(\"Chichi\",22)\n",
    "p3 = Person(\"Smooch\", 22)\n",
    "p4 = Person(\"Tutul\", 23)\n",
    "\n",
    "p1.myfunc()\n",
    "p2.myfunc()\n",
    "p3.myfunc()\n",
    "p4.myfunc()"
   ]
  },
  {
   "cell_type": "code",
   "execution_count": 115,
   "id": "a038b4ef",
   "metadata": {},
   "outputs": [
    {
     "name": "stdout",
     "output_type": "stream",
     "text": [
      "Hello my name is Sivanee\n",
      "Hello my age is 22\n",
      "Hello my name is Chichi\n",
      "Hello my age is 22\n",
      "Hello my name is Smooch\n",
      "Hello my age is 22\n",
      "Hello my name is Yamini\n",
      "Hello my age is 23\n"
     ]
    }
   ],
   "source": [
    "p1.age = 22\n",
    "p4.name = \"Yamini\"\n",
    "\n",
    "p1.myfunc()\n",
    "p2.myfunc()\n",
    "p3.myfunc()\n",
    "p4.myfunc()"
   ]
  },
  {
   "cell_type": "code",
   "execution_count": null,
   "id": "53cd39d3",
   "metadata": {},
   "outputs": [],
   "source": [
    "import numpy as np\n",
    "B  = np.random.rand(10000)\n",
    "%timeit sum(B)"
   ]
  },
  {
   "cell_type": "code",
   "execution_count": null,
   "id": "93124709",
   "metadata": {},
   "outputs": [],
   "source": [
    "%timeit np.sum(B)"
   ]
  },
  {
   "cell_type": "code",
   "execution_count": null,
   "id": "6e4def12",
   "metadata": {},
   "outputs": [],
   "source": [
    "%%timeit\n",
    "s=0\n",
    "for x in B:\n",
    "    s+=x"
   ]
  },
  {
   "cell_type": "code",
   "execution_count": null,
   "id": "d6ba62f9",
   "metadata": {},
   "outputs": [],
   "source": []
  },
  {
   "cell_type": "code",
   "execution_count": null,
   "id": "47d83d38",
   "metadata": {},
   "outputs": [],
   "source": []
  }
 ],
 "metadata": {
  "kernelspec": {
   "display_name": "Python 3",
   "language": "python",
   "name": "python3"
  },
  "language_info": {
   "codemirror_mode": {
    "name": "ipython",
    "version": 3
   },
   "file_extension": ".py",
   "mimetype": "text/x-python",
   "name": "python",
   "nbconvert_exporter": "python",
   "pygments_lexer": "ipython3",
   "version": "3.8.8"
  },
  "toc-autonumbering": true,
  "toc-showcode": true,
  "toc-showmarkdowntxt": false,
  "toc-showtags": true
 },
 "nbformat": 4,
 "nbformat_minor": 5
}
