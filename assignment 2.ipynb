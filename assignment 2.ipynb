{
 "cells": [
  {
   "cell_type": "code",
   "execution_count": 1,
   "id": "0c69e396",
   "metadata": {},
   "outputs": [
    {
     "name": "stdout",
     "output_type": "stream",
     "text": [
      " Distance in kilometrs : 50\n",
      "Distance in miles :  31.068559611866696\n"
     ]
    }
   ],
   "source": [
    "# python program to convert kilometers to miles\n",
    "kilo = int(input(\" Distance in kilometrs : \" ))\n",
    "print(\"Distance in miles : \" ,kilo/1.609344)\n",
    "\n"
   ]
  },
  {
   "cell_type": "code",
   "execution_count": 2,
   "id": "f20b075f",
   "metadata": {},
   "outputs": [
    {
     "name": "stdout",
     "output_type": "stream",
     "text": [
      "Enter the temperature in celcius : 36\n",
      "The temperature in farhenheit is :  96.8\n"
     ]
    }
   ],
   "source": [
    "# To convert celcius to farenheit\n",
    "temp = int(input(\"Enter the temperature in celcius : \"))\n",
    "print(\"The temperature in farhenheit is : \", temp*9/5+32)"
   ]
  },
  {
   "cell_type": "code",
   "execution_count": 3,
   "id": "661d574e",
   "metadata": {},
   "outputs": [
    {
     "name": "stdout",
     "output_type": "stream",
     "text": [
      "Enter a number : 8\n",
      "The number is positive .\n"
     ]
    }
   ],
   "source": [
    "# program to check if a number is positive , negative or zero\n",
    "number = int(input(\"Enter a number : \"))\n",
    "print(\"The number is positive .\") if number>0 else print(\"The number is zero .\") if number == 0 else print(\"The number is negative.\")\n",
    "\n"
   ]
  },
  {
   "cell_type": "code",
   "execution_count": 4,
   "id": "2fefee99",
   "metadata": {},
   "outputs": [
    {
     "name": "stdout",
     "output_type": "stream",
     "text": [
      "Enter a number : 9\n",
      "The number is odd.\n"
     ]
    }
   ],
   "source": [
    "# program to check if a number is odd or even\n",
    "num = int(input(\"Enter a number : \"))\n",
    "if num%2 == 0:\n",
    "    print(\"The number is even.\")\n",
    "else:\n",
    "    print(\"The number is odd.\")"
   ]
  },
  {
   "cell_type": "code",
   "execution_count": 5,
   "id": "5df6d80f",
   "metadata": {},
   "outputs": [
    {
     "name": "stdout",
     "output_type": "stream",
     "text": [
      "Enter the Year Number you wish : 2002\n",
      "2002  is Not the Leap Year\n"
     ]
    }
   ],
   "source": [
    "# program to check leap year\n",
    "year = int(input(\"Enter the Year Number you wish : \"))\n",
    "if (year%400 == 0):\n",
    "          print(year,\"is a Leap Year\")\n",
    "elif (year%100 == 0):\n",
    "          print(year,\"is Not the Leap Year\")\n",
    "elif (year%4 == 0):\n",
    "          print(year ,\" is a Leap Year\")\n",
    "else:\n",
    "          print(year ,\" is Not the Leap Year\")"
   ]
  },
  {
   "cell_type": "code",
   "execution_count": 6,
   "id": "f25d5ee6",
   "metadata": {},
   "outputs": [
    {
     "name": "stdout",
     "output_type": "stream",
     "text": [
      "Enter number1 :5\n",
      "Enter number2 :9\n",
      "Enter number3 :2\n",
      "num2 is largest\n"
     ]
    }
   ],
   "source": [
    "# program to find the largest among three numbers\n",
    "num1 = int(input(\"Enter number1 :\"))\n",
    "num2 = int(input(\"Enter number2 :\"))\n",
    "num3 = int(input(\"Enter number3 :\"))\n",
    "if (num1 >= num2) and (num1 >= num3):\n",
    "   print(\" num1 is largest\")\n",
    "elif (num2 >= num1) and (num2 >= num3):\n",
    "   print(\"num2 is largest\")\n",
    "else:\n",
    "   print(\"num3 is largest\")\n",
    "\n"
   ]
  },
  {
   "cell_type": "code",
   "execution_count": 2,
   "id": "c7da226e",
   "metadata": {},
   "outputs": [
    {
     "name": "stdout",
     "output_type": "stream",
     "text": [
      "please enter the number:-13\n",
      "-13 is not a prime number\n"
     ]
    }
   ],
   "source": [
    "# program to find if a number is prime or not\n",
    "num = int(input(\"please enter the number:\"))\n",
    "if num > 1:\n",
    "           \n",
    "    for i in range(2,int(num/2)+1):\n",
    "        if (num % i) ==0:\n",
    "           print(num,\"is not a prime number\")\n",
    "           break\n",
    "        else:\n",
    "           print(num,\"is a prime number\")\n",
    "else:\n",
    "   print(num,\"is not a prime number\")"
   ]
  },
  {
   "cell_type": "code",
   "execution_count": 1,
   "id": "904b9394",
   "metadata": {},
   "outputs": [
    {
     "name": "stdout",
     "output_type": "stream",
     "text": [
      "Prime numbers between 500 and 2000 are:\n",
      "503\n",
      "509\n",
      "521\n",
      "523\n",
      "541\n",
      "547\n",
      "557\n",
      "563\n",
      "569\n",
      "571\n",
      "577\n",
      "587\n",
      "593\n",
      "599\n",
      "601\n",
      "607\n",
      "613\n",
      "617\n",
      "619\n",
      "631\n",
      "641\n",
      "643\n",
      "647\n",
      "653\n",
      "659\n",
      "661\n",
      "673\n",
      "677\n",
      "683\n",
      "691\n",
      "701\n",
      "709\n",
      "719\n",
      "727\n",
      "733\n",
      "739\n",
      "743\n",
      "751\n",
      "757\n",
      "761\n",
      "769\n",
      "773\n",
      "787\n",
      "797\n",
      "809\n",
      "811\n",
      "821\n",
      "823\n",
      "827\n",
      "829\n",
      "839\n",
      "853\n",
      "857\n",
      "859\n",
      "863\n",
      "877\n",
      "881\n",
      "883\n",
      "887\n",
      "907\n",
      "911\n",
      "919\n",
      "929\n",
      "937\n",
      "941\n",
      "947\n",
      "953\n",
      "967\n",
      "971\n",
      "977\n",
      "983\n",
      "991\n",
      "997\n",
      "1009\n",
      "1013\n",
      "1019\n",
      "1021\n",
      "1031\n",
      "1033\n",
      "1039\n",
      "1049\n",
      "1051\n",
      "1061\n",
      "1063\n",
      "1069\n",
      "1087\n",
      "1091\n",
      "1093\n",
      "1097\n",
      "1103\n",
      "1109\n",
      "1117\n",
      "1123\n",
      "1129\n",
      "1151\n",
      "1153\n",
      "1163\n",
      "1171\n",
      "1181\n",
      "1187\n",
      "1193\n",
      "1201\n",
      "1213\n",
      "1217\n",
      "1223\n",
      "1229\n",
      "1231\n",
      "1237\n",
      "1249\n",
      "1259\n",
      "1277\n",
      "1279\n",
      "1283\n",
      "1289\n",
      "1291\n",
      "1297\n",
      "1301\n",
      "1303\n",
      "1307\n",
      "1319\n",
      "1321\n",
      "1327\n",
      "1361\n",
      "1367\n",
      "1373\n",
      "1381\n",
      "1399\n",
      "1409\n",
      "1423\n",
      "1427\n",
      "1429\n",
      "1433\n",
      "1439\n",
      "1447\n",
      "1451\n",
      "1453\n",
      "1459\n",
      "1471\n",
      "1481\n",
      "1483\n",
      "1487\n",
      "1489\n",
      "1493\n",
      "1499\n",
      "1511\n",
      "1523\n",
      "1531\n",
      "1543\n",
      "1549\n",
      "1553\n",
      "1559\n",
      "1567\n",
      "1571\n",
      "1579\n",
      "1583\n",
      "1597\n",
      "1601\n",
      "1607\n",
      "1609\n",
      "1613\n",
      "1619\n",
      "1621\n",
      "1627\n",
      "1637\n",
      "1657\n",
      "1663\n",
      "1667\n",
      "1669\n",
      "1693\n",
      "1697\n",
      "1699\n",
      "1709\n",
      "1721\n",
      "1723\n",
      "1733\n",
      "1741\n",
      "1747\n",
      "1753\n",
      "1759\n",
      "1777\n",
      "1783\n",
      "1787\n",
      "1789\n",
      "1801\n",
      "1811\n",
      "1823\n",
      "1831\n",
      "1847\n",
      "1861\n",
      "1867\n",
      "1871\n",
      "1873\n",
      "1877\n",
      "1879\n",
      "1889\n",
      "1901\n",
      "1907\n",
      "1913\n",
      "1931\n",
      "1933\n",
      "1949\n",
      "1951\n",
      "1973\n",
      "1979\n",
      "1987\n",
      "1993\n",
      "1997\n",
      "1999\n"
     ]
    }
   ],
   "source": [
    "# Python program to display all the prime numbers within an interval\n",
    "lower = 500\n",
    "upper = 2000\n",
    "print(\"Prime numbers between\", lower, \"and\", upper, \"are:\")\n",
    "for num in range(lower, upper + 1):\n",
    "   if num > 1:\n",
    "       for i in range(2, num):\n",
    "           if (num % i) == 0:\n",
    "               break\n",
    "       else:\n",
    "           print(num)"
   ]
  },
  {
   "cell_type": "code",
   "execution_count": 5,
   "id": "6a0cc15a",
   "metadata": {},
   "outputs": [
    {
     "name": "stdout",
     "output_type": "stream",
     "text": [
      "Enter a number: 4\n",
      "The factorial of 4 is 24\n"
     ]
    }
   ],
   "source": [
    "#Python program to find the factorial of a number.\n",
    "\n",
    "num = int(input(\"Enter a number: \"))\n",
    "fact = 1\n",
    "if num < 0:\n",
    "   print(\" factorial does not exist for negative numbers\")\n",
    "elif num == 0:\n",
    "   print(\"The factorial of 0 is 1\")\n",
    "else:\n",
    "   for i in range(1,num + 1):\n",
    "       fact = fact*i\n",
    "   print(\"The factorial of\",num,\"is\",fact)"
   ]
  },
  {
   "cell_type": "code",
   "execution_count": 16,
   "id": "c94ffb5a",
   "metadata": {},
   "outputs": [
    {
     "name": "stdout",
     "output_type": "stream",
     "text": [
      "Enter the  number: 7\n",
      "The multiplication of  7 * 1 is 7\n",
      "The multiplication of  7 * 2 is 14\n",
      "The multiplication of  7 * 3 is 21\n",
      "The multiplication of  7 * 4 is 28\n",
      "The multiplication of  7 * 5 is 35\n",
      "The multiplication of  7 * 6 is 42\n",
      "The multiplication of  7 * 7 is 49\n",
      "The multiplication of  7 * 8 is 56\n",
      "The multiplication of  7 * 9 is 63\n",
      "The multiplication of  7 * 10 is 70\n"
     ]
    }
   ],
   "source": [
    "# Python Program to Display the multiplication Table\n",
    "num = int(input(\"Enter the  number: \"))\n",
    "for i in range(1,11):\n",
    "    mul = num * i\n",
    "    print(\"The multiplication of \",num ,\"*\",i , \"is\",mul)\n",
    "\n"
   ]
  },
  {
   "cell_type": "code",
   "execution_count": null,
   "id": "5cefb197",
   "metadata": {},
   "outputs": [],
   "source": [
    "\n"
   ]
  }
 ],
 "metadata": {
  "kernelspec": {
   "display_name": "Python 3",
   "language": "python",
   "name": "python3"
  },
  "language_info": {
   "codemirror_mode": {
    "name": "ipython",
    "version": 3
   },
   "file_extension": ".py",
   "mimetype": "text/x-python",
   "name": "python",
   "nbconvert_exporter": "python",
   "pygments_lexer": "ipython3",
   "version": "3.8.8"
  }
 },
 "nbformat": 4,
 "nbformat_minor": 5
}
