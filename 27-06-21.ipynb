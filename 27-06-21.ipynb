{
 "cells": [
  {
   "cell_type": "code",
   "execution_count": 1,
   "id": "6b5f8ee3",
   "metadata": {},
   "outputs": [],
   "source": [
    "# write a program to print 1 to 49 in a file\n",
    "def main():\n",
    "    obj1 = open(\"Demo2.txt\",\"w\")\n",
    "    for i in range(1,50):\n",
    "        i = str(i)\n",
    "        obj1.write(i)\n",
    "        obj1.write(\" \")\n",
    "    obj1.close()\n",
    "main()\n"
   ]
  },
  {
   "cell_type": "code",
   "execution_count": 2,
   "id": "57c9b0d9",
   "metadata": {},
   "outputs": [],
   "source": [
    "# write a program to write different sentences to a file\n",
    "def main():\n",
    "    obj2 = open(\"Demo1.txt\",\"w\")\n",
    "    obj2.write(\"Hello,How are you?  \\n\")\n",
    "    obj2.write(\"Welcome to the Session  \\n\")\n",
    "    obj2.write(\"Enjoy the chapter \\n\")\n",
    "main()"
   ]
  },
  {
   "cell_type": "code",
   "execution_count": 3,
   "id": "a99079c2",
   "metadata": {},
   "outputs": [],
   "source": [
    "# Generate 50 random numbers within range 500 to 1000 and write them to a file WriteNumRandom.txt\n",
    "import random\n",
    "def main():\n",
    "    obj3 = open(\"WriteNumRandom.txt\",\"w\")\n",
    "    for i in range(51):\n",
    "        \n",
    "        i = random.randint(500,1000)\n",
    "        i = str(i)\n",
    "        obj3.write(i)\n",
    "        obj3.write(\" \")\n",
    "    obj3.close()\n",
    "main()"
   ]
  },
  {
   "cell_type": "code",
   "execution_count": 4,
   "id": "7d942db9",
   "metadata": {},
   "outputs": [
    {
     "name": "stdout",
     "output_type": "stream",
     "text": [
      "1 2 3 4 5 6 7 8 9 10 11 12 13 14 15 16 17 18 19 20 21 22 23 24 25 26 27 28 29 30 31 32 33 34 35 36 37 38 39 40 41 42 43 44 45 46 47 48 49 \n"
     ]
    }
   ],
   "source": [
    "#Read a text from a file\n",
    "obj4 = open(\"Demo2.txt\",\"r\")\n",
    "text =  obj4.read()\n",
    "print(text)"
   ]
  },
  {
   "cell_type": "code",
   "execution_count": 5,
   "id": "a33f5ca5",
   "metadata": {},
   "outputs": [
    {
     "name": "stdout",
     "output_type": "stream",
     "text": [
      "1 2 3 4 5 6 7 8 9 10 11 12 13 14 15 16 17 18 19 20 21 22 23 24 25 26 27 28 29 30 31 32 33 34 35 36 37 38 39 40 41 42 43 44 45 46 47 48 49 \n"
     ]
    }
   ],
   "source": [
    "# other way\n",
    "\n",
    "obj4 = open(\"Demo2.txt\",\"r\")\n",
    "for txt in obj4:\n",
    "    print(txt)"
   ]
  },
  {
   "cell_type": "code",
   "execution_count": 11,
   "id": "d656f837",
   "metadata": {},
   "outputs": [
    {
     "name": "stdout",
     "output_type": "stream",
     "text": [
      "False\n"
     ]
    }
   ],
   "source": [
    "my_list = [1, 2, 3, 4] \n",
    "your_list = [4, 3, 2, 1] \n",
    "his_list = [1, 2, 3, 4]\n",
    "print(my_list == your_list)"
   ]
  },
  {
   "cell_type": "code",
   "execution_count": 12,
   "id": "876b09a3",
   "metadata": {},
   "outputs": [
    {
     "name": "stdout",
     "output_type": "stream",
     "text": [
      "True\n"
     ]
    }
   ],
   "source": [
    "\n",
    "my_dict = {1:1, 2:2, 3:3, 4:4} \n",
    "your_dict = {4:4, 3:3, 2:2, 1:1}\n",
    "print(my_dict == your_dict)"
   ]
  },
  {
   "cell_type": "code",
   "execution_count": 13,
   "id": "a15505be",
   "metadata": {},
   "outputs": [
    {
     "name": "stdout",
     "output_type": "stream",
     "text": [
      "Enter the Number8\n",
      "1\n",
      "2\n",
      "3\n",
      "4\n",
      "5\n",
      "6\n",
      "7\n",
      "8\n"
     ]
    }
   ],
   "source": [
    "n= int(input(\"Enter the Number\"))\n",
    "for num in range(1,n+1,1):\n",
    "    print(num)"
   ]
  },
  {
   "cell_type": "code",
   "execution_count": 14,
   "id": "9584ba2b",
   "metadata": {},
   "outputs": [
    {
     "name": "stdout",
     "output_type": "stream",
     "text": [
      "0.5\n",
      "final value: 0.5\n"
     ]
    }
   ],
   "source": [
    "value = 0.25\n",
    "while value < 8:\n",
    "    value = value * 2\n",
    "    print(value)\n",
    "    break\n",
    "\n",
    "print(\"final value:\", value)"
   ]
  },
  {
   "cell_type": "code",
   "execution_count": 15,
   "id": "aab12576",
   "metadata": {},
   "outputs": [
    {
     "name": "stdout",
     "output_type": "stream",
     "text": [
      "Enter the number of rows5\n",
      "1\n",
      "12\n",
      "123\n",
      "1234\n",
      "12345\n"
     ]
    }
   ],
   "source": [
    "n=int(input(\"Enter the number of rows\"))\n",
    "for i in range(1,n+1):\n",
    "    for j in range(1,i+1):\n",
    "        print(j,end=\"\")\n",
    "    print() "
   ]
  },
  {
   "cell_type": "code",
   "execution_count": 16,
   "id": "e3e1794f",
   "metadata": {},
   "outputs": [
    {
     "name": "stdout",
     "output_type": "stream",
     "text": [
      "Enter the number of rows8\n",
      "1\n",
      "22\n",
      "333\n",
      "4444\n",
      "55555\n",
      "666666\n",
      "7777777\n",
      "88888888\n"
     ]
    }
   ],
   "source": [
    "n=int(input(\"Enter the number of rows\"))\n",
    "for i in range(1,n+1):\n",
    "    for j in range(1,i+1):\n",
    "        print(i,end=\"\")\n",
    "    print()"
   ]
  },
  {
   "cell_type": "code",
   "execution_count": 17,
   "id": "953c4333",
   "metadata": {},
   "outputs": [
    {
     "name": "stdout",
     "output_type": "stream",
     "text": [
      "Enter the number of rows6\n",
      "*\n",
      "**\n",
      "***\n",
      "****\n",
      "*****\n",
      "******\n"
     ]
    }
   ],
   "source": [
    "n=int(input(\"Enter the number of rows\"))\n",
    "for i in range(1,n+1):\n",
    "    for j in range(1,i+1):\n",
    "        print(\"*\",end=\"\")\n",
    "    print()"
   ]
  },
  {
   "cell_type": "code",
   "execution_count": 18,
   "id": "a33fcef5",
   "metadata": {},
   "outputs": [
    {
     "name": "stdout",
     "output_type": "stream",
     "text": [
      "Enter the number of rows5\n",
      "*     \n",
      "**    \n",
      "* *   \n",
      "*  *  \n",
      "*   * \n",
      "******\n"
     ]
    }
   ],
   "source": [
    "n=int(input(\"Enter the number of rows\"))\n",
    "for row in range(n+1):\n",
    "    for col in range(n+1):\n",
    "        if col==0 or row==(n) or row==col:#here we made 3 parts\n",
    "            print(\"*\",end=\"\")\n",
    "        else:\n",
    "            print(end=\" \")\n",
    "    print()"
   ]
  },
  {
   "cell_type": "code",
   "execution_count": 19,
   "id": "643ea029",
   "metadata": {},
   "outputs": [
    {
     "name": "stdout",
     "output_type": "stream",
     "text": [
      "Enter a stringsivanee\n",
      "s \n",
      "s i \n",
      "s i v \n",
      "s i v a \n",
      "s i v a n \n",
      "s i v a n e \n",
      "s i v a n e e \n"
     ]
    }
   ],
   "source": [
    "string=input(\"Enter a string\")\n",
    "length=len(string)  #length would be the number of rows\n",
    "for row in range(length): #starting from 0\n",
    "    for col in range(row+1):\n",
    "        print(string[col],end=\" \")\n",
    "    print()"
   ]
  },
  {
   "cell_type": "code",
   "execution_count": 20,
   "id": "a88c0c51",
   "metadata": {},
   "outputs": [
    {
     "name": "stdout",
     "output_type": "stream",
     "text": [
      "Current date and time: 2021-06-27 23:20:23.481819\n",
      "Current year: 2021\n",
      "Month ofthe year: June\n",
      "Week number of the year: 25\n",
      "Weekday of the week: 0\n",
      "Day of the year: 178\n",
      "Day of the month: 27\n",
      "Day of the week: Sunday\n"
     ]
    }
   ],
   "source": [
    "import time \n",
    "import datetime\n",
    "print(\"Current date and time:\",datetime.datetime.now())\n",
    "print(\"Current year:\",datetime.date.today().strftime(\"%Y\"))\n",
    "print(\"Month ofthe year:\",datetime.date.today().strftime(\"%B\"))\n",
    "print(\"Week number of the year:\",datetime.date.today().strftime(\"%W\"))\n",
    "print(\"Weekday of the week:\",datetime.date.today().strftime(\"%w\"))\n",
    "print(\"Day of the year:\",datetime.date.today().strftime(\"%j\"))\n",
    "print(\"Day of the month:\",datetime.date.today().strftime(\"%d\"))\n",
    "print(\"Day of the week:\",datetime.date.today().strftime(\"%A\"))"
   ]
  },
  {
   "cell_type": "code",
   "execution_count": 21,
   "id": "e8ff819f",
   "metadata": {},
   "outputs": [
    {
     "name": "stdout",
     "output_type": "stream",
     "text": [
      "Enter the leap year:2005\n",
      "No\n"
     ]
    }
   ],
   "source": [
    "def leap(y):\n",
    "    if y%4==0 and y%100!=0:\n",
    "        print(\"Yes\")\n",
    "    elif y%400==0:\n",
    "        print (\"Yes\")\n",
    "    else:\n",
    "        print(\"No\")\n",
    "y=int(input(\"Enter the leap year:\"))        \n",
    "leap(y)"
   ]
  },
  {
   "cell_type": "code",
   "execution_count": 22,
   "id": "c9462b4e",
   "metadata": {},
   "outputs": [
    {
     "name": "stdout",
     "output_type": "stream",
     "text": [
      "2021-06-27\n",
      "2021-06-22\n"
     ]
    }
   ],
   "source": [
    "from datetime import date,timedelta\n",
    "print(date.today())\n",
    "date=date.today()-timedelta(5)\n",
    "print(date)"
   ]
  },
  {
   "cell_type": "code",
   "execution_count": 23,
   "id": "74a75a0a",
   "metadata": {},
   "outputs": [
    {
     "name": "stdout",
     "output_type": "stream",
     "text": [
      "2021-06-27\n",
      "2021-06-26\n",
      "2021-06-28\n"
     ]
    }
   ],
   "source": [
    "import datetime\n",
    "today=datetime.date.today()\n",
    "yesterday=today-datetime.timedelta(1)\n",
    "tomorrow=today+datetime.timedelta(1)\n",
    "print(today)\n",
    "print(yesterday)\n",
    "print(tomorrow)"
   ]
  },
  {
   "cell_type": "code",
   "execution_count": 24,
   "id": "517f15f2",
   "metadata": {},
   "outputs": [
    {
     "name": "stdout",
     "output_type": "stream",
     "text": [
      " *** \n",
      "*   *\n",
      "*   *\n",
      "*****\n",
      "*   *\n",
      "*   *\n",
      "*   *\n"
     ]
    }
   ],
   "source": [
    "for row in range(7):\n",
    "    for col in range(5):\n",
    "        if ((col==0 or col==4) and row!=0) or  ((row==0 or row==3) and (col>0 and col<4)):\n",
    "            print(\"*\",end=\"\")\n",
    "       \n",
    "        else:\n",
    "            print(end=\" \")\n",
    "    print()"
   ]
  },
  {
   "cell_type": "code",
   "execution_count": 27,
   "id": "43486d77",
   "metadata": {},
   "outputs": [
    {
     "name": "stdout",
     "output_type": "stream",
     "text": [
      "*   *\n",
      "*   *\n",
      "*   *\n",
      "*****\n",
      "*   *\n",
      "*   *\n",
      "*   *\n"
     ]
    }
   ],
   "source": [
    "for row in range(7):\n",
    "    for col in range(5):\n",
    "        if col==0 or col==4 or (row==3 and (col>0 and col<4)):\n",
    "            print(\"*\",end=\"\")\n",
    "        else:\n",
    "            print(end=\" \")\n",
    "    print()"
   ]
  },
  {
   "cell_type": "code",
   "execution_count": null,
   "id": "e821d90d",
   "metadata": {},
   "outputs": [],
   "source": []
  }
 ],
 "metadata": {
  "kernelspec": {
   "display_name": "Python 3",
   "language": "python",
   "name": "python3"
  },
  "language_info": {
   "codemirror_mode": {
    "name": "ipython",
    "version": 3
   },
   "file_extension": ".py",
   "mimetype": "text/x-python",
   "name": "python",
   "nbconvert_exporter": "python",
   "pygments_lexer": "ipython3",
   "version": "3.8.8"
  }
 },
 "nbformat": 4,
 "nbformat_minor": 5
}
