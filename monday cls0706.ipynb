{
 "cells": [
  {
   "cell_type": "code",
   "execution_count": 3,
   "id": "becd9229",
   "metadata": {},
   "outputs": [
    {
     "name": "stdout",
     "output_type": "stream",
     "text": [
      "True\n"
     ]
    }
   ],
   "source": [
    "MY_LIST = [1,2,3,4]\n",
    "YOUR_LIST=[4,3,2,1]\n",
    "HIS_LIST=[1,2,3,4]\n",
    "print(MY_LIST==HIS_LIST)"
   ]
  },
  {
   "cell_type": "code",
   "execution_count": 4,
   "id": "67ea2242",
   "metadata": {},
   "outputs": [
    {
     "name": "stdout",
     "output_type": "stream",
     "text": [
      "True\n"
     ]
    }
   ],
   "source": [
    "my_dict = {1:1,2:2,3:3,4:4}\n",
    "his_dict = {4:4,3:3,2:2,1:1}\n",
    "print(my_dict==his_dict)"
   ]
  },
  {
   "cell_type": "code",
   "execution_count": 7,
   "id": "1def97ce",
   "metadata": {},
   "outputs": [
    {
     "name": "stdout",
     "output_type": "stream",
     "text": [
      "1\n",
      "4\n",
      "9\n",
      "16\n",
      "25\n"
     ]
    }
   ],
   "source": [
    "for num in [1,2,3,4,5]:\n",
    " print(num**2)"
   ]
  },
  {
   "cell_type": "code",
   "execution_count": 9,
   "id": "93390cd4",
   "metadata": {},
   "outputs": [
    {
     "name": "stdout",
     "output_type": "stream",
     "text": [
      "c\n",
      "o\n",
      "m\n",
      "p\n",
      "u\n",
      "t\n",
      "e\n",
      "r\n"
     ]
    }
   ],
   "source": [
    "for num in 'computer':\n",
    "    print(num)"
   ]
  },
  {
   "cell_type": "code",
   "execution_count": 14,
   "id": "5aa32ccf",
   "metadata": {},
   "outputs": [
    {
     "name": "stdout",
     "output_type": "stream",
     "text": [
      "price is 2.5\n",
      "total is 2.5\n",
      "average is 0.8333333333333334\n",
      "price is 3.5\n",
      "total is 6.0\n",
      "average is 2.0\n",
      "price is 4.5\n",
      "total is 10.5\n",
      "average is 3.5\n"
     ]
    }
   ],
   "source": [
    "total = 0\n",
    "prices = [2.50,3.50,4.50]\n",
    "for price in prices:\n",
    "    print('price is',price)\n",
    "    total = total+price\n",
    "    print('total is',total)\n",
    "    average = total/len(prices)\n",
    "    print('average is',average)"
   ]
  },
  {
   "cell_type": "code",
   "execution_count": 15,
   "id": "976d98c4",
   "metadata": {},
   "outputs": [
    {
     "name": "stdout",
     "output_type": "stream",
     "text": [
      "0.1726360714916847\n"
     ]
    }
   ],
   "source": [
    "import random\n",
    "r1 = random.random()\n",
    "print(r1)"
   ]
  },
  {
   "cell_type": "code",
   "execution_count": 17,
   "id": "1a7f3332",
   "metadata": {},
   "outputs": [
    {
     "name": "stdout",
     "output_type": "stream",
     "text": [
      "3\n"
     ]
    }
   ],
   "source": [
    "r2 = random.choice([1,2,3,4,5])\n",
    "print(r2)"
   ]
  },
  {
   "cell_type": "code",
   "execution_count": 20,
   "id": "5b956f4a",
   "metadata": {},
   "outputs": [
    {
     "data": {
      "text/plain": [
       "354"
      ]
     },
     "execution_count": 20,
     "metadata": {},
     "output_type": "execute_result"
    }
   ],
   "source": [
    "r3 = random.randint(1,1000)\n",
    "r3"
   ]
  },
  {
   "cell_type": "code",
   "execution_count": 23,
   "id": "5b27519a",
   "metadata": {},
   "outputs": [
    {
     "name": "stdout",
     "output_type": "stream",
     "text": [
      "2004\n",
      "2008\n",
      "2012\n"
     ]
    }
   ],
   "source": [
    "for i in range(2004,2016,4):\n",
    "    print(i)"
   ]
  },
  {
   "cell_type": "code",
   "execution_count": 29,
   "id": "0f151e00",
   "metadata": {},
   "outputs": [
    {
     "name": "stdout",
     "output_type": "stream",
     "text": [
      "enter the number9\n",
      "2\n",
      "4\n",
      "6\n",
      "8\n",
      "10\n"
     ]
    }
   ],
   "source": [
    "n = 1\n",
    "num = int(input(\"enter the number\"))\n",
    "while n<= num:\n",
    "    n+=1\n",
    "    print(n)\n",
    "    n+=1"
   ]
  },
  {
   "cell_type": "code",
   "execution_count": null,
   "id": "20ace166",
   "metadata": {},
   "outputs": [],
   "source": []
  },
  {
   "cell_type": "code",
   "execution_count": null,
   "id": "00c34f27",
   "metadata": {},
   "outputs": [],
   "source": []
  }
 ],
 "metadata": {
  "kernelspec": {
   "display_name": "Python 3",
   "language": "python",
   "name": "python3"
  },
  "language_info": {
   "codemirror_mode": {
    "name": "ipython",
    "version": 3
   },
   "file_extension": ".py",
   "mimetype": "text/x-python",
   "name": "python",
   "nbconvert_exporter": "python",
   "pygments_lexer": "ipython3",
   "version": "3.8.8"
  }
 },
 "nbformat": 4,
 "nbformat_minor": 5
}
