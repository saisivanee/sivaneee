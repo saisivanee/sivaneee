{
 "cells": [
  {
   "cell_type": "markdown",
   "id": "8aa51932",
   "metadata": {},
   "source": [
    "# Question 1"
   ]
  },
  {
   "cell_type": "code",
   "execution_count": 1,
   "id": "a6d557e0",
   "metadata": {},
   "outputs": [
    {
     "name": "stdout",
     "output_type": "stream",
     "text": [
      "enter a number:5\n",
      "5 * 1 = 5\n",
      "5 * 2 = 10\n",
      "5 * 3 = 15\n",
      "5 * 4 = 20\n",
      "5 * 5 = 25\n",
      "5 * 6 = 30\n",
      "5 * 7 = 35\n",
      "5 * 8 = 40\n",
      "5 * 9 = 45\n",
      "5 * 10 = 50\n"
     ]
    }
   ],
   "source": [
    "def table(n):\n",
    "    for i in range(1,11):\n",
    "        \n",
    "        print(\"%d * %d = %d\" % (n, i, n * i))\n",
    "n = int(input(\"enter a number:\",))\n",
    "table(n)\n",
    "   "
   ]
  },
  {
   "cell_type": "markdown",
   "id": "d6a131d8",
   "metadata": {},
   "source": [
    "# Question 2"
   ]
  },
  {
   "cell_type": "code",
   "execution_count": 2,
   "id": "57258be5",
   "metadata": {},
   "outputs": [
    {
     "name": "stdout",
     "output_type": "stream",
     "text": [
      "enter a number: 5\n",
      "the sum is 15\n"
     ]
    }
   ],
   "source": [
    "n = int(input(\"enter a number: \" ))\n",
    "sum = 0\n",
    "i = 1\n",
    "while i<=n:\n",
    "    sum = sum+i\n",
    "    i=i+1\n",
    "print(\"the sum is\", sum)"
   ]
  },
  {
   "cell_type": "markdown",
   "id": "42f96441",
   "metadata": {},
   "source": [
    "# Question 3\n"
   ]
  },
  {
   "cell_type": "code",
   "execution_count": 3,
   "id": "7085282a",
   "metadata": {},
   "outputs": [
    {
     "name": "stdout",
     "output_type": "stream",
     "text": [
      "enter a number: 5\n",
      "factorial of 5 is 120\n"
     ]
    }
   ],
   "source": [
    "def factorial(n):\n",
    "    return 1 if (n==1 or n==0) else n*factorial(n-1);\n",
    "num = int(input(\"enter a number: \" ));\n",
    "print(\"factorial of\",num,\"is\",factorial(num))\n",
    "    "
   ]
  },
  {
   "cell_type": "markdown",
   "id": "aef3372b",
   "metadata": {},
   "source": [
    "# Question 4\n"
   ]
  },
  {
   "cell_type": "code",
   "execution_count": 1,
   "id": "cd99245f",
   "metadata": {},
   "outputs": [
    {
     "name": "stdin",
     "output_type": "stream",
     "text": [
      "enter the no of sales of the month:  3\n"
     ]
    },
    {
     "name": "stdout",
     "output_type": "stream",
     "text": [
      "Enter the values of sales\n"
     ]
    },
    {
     "name": "stdin",
     "output_type": "stream",
     "text": [
      " 555\n",
      " 444\n",
      " 222\n"
     ]
    },
    {
     "name": "stdout",
     "output_type": "stream",
     "text": [
      "407.0\n"
     ]
    }
   ],
   "source": [
    "n = int(input(\"enter the no of sales of the month: \"))\n",
    "a = []\n",
    "print(\"Enter the values of sales\")\n",
    "for i in range(0,n):\n",
    "    b = int(input(\"\"))\n",
    "    a.append(b)\n",
    "avg = sum(a)/n\n",
    "print(avg)"
   ]
  },
  {
   "cell_type": "code",
   "execution_count": null,
   "id": "6aca4bfb",
   "metadata": {},
   "outputs": [],
   "source": []
  }
 ],
 "metadata": {
  "kernelspec": {
   "display_name": "Python 3",
   "language": "python",
   "name": "python3"
  },
  "language_info": {
   "codemirror_mode": {
    "name": "ipython",
    "version": 3
   },
   "file_extension": ".py",
   "mimetype": "text/x-python",
   "name": "python",
   "nbconvert_exporter": "python",
   "pygments_lexer": "ipython3",
   "version": "3.8.8"
  }
 },
 "nbformat": 4,
 "nbformat_minor": 5
}
