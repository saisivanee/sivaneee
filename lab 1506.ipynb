{
 "cells": [
  {
   "cell_type": "code",
   "execution_count": 1,
   "id": "6d168c83",
   "metadata": {},
   "outputs": [
    {
     "name": "stdout",
     "output_type": "stream",
     "text": [
      "3\n"
     ]
    }
   ],
   "source": [
    "set = {\"apple\",\"banana\",\"cherry\"}\n",
    "print(len(set))"
   ]
  },
  {
   "cell_type": "code",
   "execution_count": 2,
   "id": "3156ad1d",
   "metadata": {},
   "outputs": [
    {
     "data": {
      "text/plain": [
       "<function print>"
      ]
     },
     "execution_count": 2,
     "metadata": {},
     "output_type": "execute_result"
    }
   ],
   "source": [
    "set = {\"banana\",\"cherry\",\"papaya\",\"kiwi\",\"apple\",\"watermelon\",\"orange\"}\n",
    "print"
   ]
  },
  {
   "cell_type": "code",
   "execution_count": 3,
   "id": "ed120aff",
   "metadata": {},
   "outputs": [
    {
     "name": "stdout",
     "output_type": "stream",
     "text": [
      "{1, 2, 3, 'a', 'b', 'c'}\n",
      "\n",
      "\n",
      "{1, 2, 3, 'a', 'b', 'c'}\n"
     ]
    }
   ],
   "source": [
    "set1 = {\"a\",\"b\",\"c\"}\n",
    "set2 = {1,2,3}\n",
    "set3 = set1.union(set2)\n",
    "print(set3)\n",
    "print(\"\\n\")\n",
    "set1 = {\"a\",\"b\",\"c\"}\n",
    "set2  ={1,2,3}\n",
    "set1.update(set2)\n",
    "print(set1)"
   ]
  },
  {
   "cell_type": "code",
   "execution_count": 4,
   "id": "88ba434a",
   "metadata": {},
   "outputs": [
    {
     "name": "stdout",
     "output_type": "stream",
     "text": [
      "{'a': 5, 'b': 6, 'c': 7, 'apple': 30, 'banana': 70, 'happy': 26, 'world': 99}\n"
     ]
    }
   ],
   "source": [
    "dict1={\"a\":5,\"b\":6,\"c\":7}\n",
    "dict2={\"apple\":30,\"banana\":70}\n",
    "dict3={\"happy\":26,\"world\":99}\n",
    "dict1.update(dict2)\n",
    "dict1.update(dict3)\n",
    "print(dict1)"
   ]
  },
  {
   "cell_type": "code",
   "execution_count": 5,
   "id": "d1bbc02c",
   "metadata": {},
   "outputs": [
    {
     "name": "stdout",
     "output_type": "stream",
     "text": [
      "Name: Sivanee, Address: xyz, Street: abc, State: Odisha\n"
     ]
    }
   ],
   "source": [
    "dic1 = {\"name\":\"Sivanee\", \"address\":\"xyz\", \"street\":\"abc\", \"state\":\"Odisha\"}\n",
    "print (\"Name: {}, Address: {}, Street: {}, State: {}\".format(dic1['name'], dic1['address'], dic1['street'], dic1['state']))"
   ]
  },
  {
   "cell_type": "code",
   "execution_count": 6,
   "id": "f6097dd9",
   "metadata": {},
   "outputs": [
    {
     "name": "stdout",
     "output_type": "stream",
     "text": [
      "1200\n"
     ]
    }
   ],
   "source": [
    "fruitDict = {'Apple': 10, 'banana': 5,'orange':4,'Guava':6} \n",
    "tot = 1\n",
    "for i in fruitDict:\n",
    "    tot = tot*fruitDict[i]\n",
    "print(tot)"
   ]
  },
  {
   "cell_type": "code",
   "execution_count": 14,
   "id": "47218d97",
   "metadata": {},
   "outputs": [
    {
     "name": "stdout",
     "output_type": "stream",
     "text": [
      "enter no.of records3\n",
      "enter key:hari\n",
      "enter value:56\n",
      "enter key:shyam\n",
      "enter value:88\n",
      "enter key:jack\n",
      "enter value:55\n",
      "enter key to check:jack\n",
      "jack=55\n"
     ]
    }
   ],
   "source": [
    "dict={}\n",
    "x=int(input(\"enter no.of records\"))\n",
    "for i in range(x):\n",
    "    key=input(\"enter key:\")\n",
    "    val=int(input(\"enter value:\"))\n",
    "    dict[key]=val\n",
    "check=input(\"enter key to check:\")\n",
    "if check in dicty.keys():\n",
    "    print(f\"{check}={dicty[check]}\")\n"
   ]
  },
  {
   "cell_type": "code",
   "execution_count": 17,
   "id": "6a225c3c",
   "metadata": {},
   "outputs": [
    {
     "name": "stdout",
     "output_type": "stream",
     "text": [
      "Before sorting:\n",
      "[('Eng', 88), ('Sci', 90), ('Maths', 97), ('Sst', 82)]\n",
      "\n",
      " After Sorting :\n",
      "[('Sst', 82), ('Eng', 88), ('Sci', 90), ('Maths', 97)]\n"
     ]
    }
   ],
   "source": [
    "x = [('Eng', 88), ('Sci', 90), ('Maths', 97), ('Sst', 82)]\n",
    "print(\"Before sorting:\")\n",
    "print(x)\n",
    "x.sort(key = lambda x: x[1])\n",
    "print(\"\\n After Sorting :\")\n",
    "print(x)\n"
   ]
  },
  {
   "cell_type": "code",
   "execution_count": 24,
   "id": "81509cbe",
   "metadata": {},
   "outputs": [
    {
     "name": "stdout",
     "output_type": "stream",
     "text": [
      "Coming from if \n",
      "Coming from elif\n",
      "No condition satisfied\n"
     ]
    }
   ],
   "source": [
    "def fun(a,b):\n",
    "    if(a==1):\n",
    "        print(\"Coming from if \")\n",
    "    elif(b==1):\n",
    "        print(\"Coming from elif\")\n",
    "    else:\n",
    "        print(\"No condition satisfied\")\n",
    "\n",
    "fun(1,2)\n",
    "fun(3,1)\n",
    "fun(5,6)"
   ]
  },
  {
   "cell_type": "code",
   "execution_count": 27,
   "id": "013e6942",
   "metadata": {},
   "outputs": [
    {
     "name": "stdout",
     "output_type": "stream",
     "text": [
      "66.0\n"
     ]
    }
   ],
   "source": [
    "dic={1:{'name':'Ram','Mark':{'phy':56,'chem':78}},2:{'name':'Hari','Mark':{'phy':76,'chem':88}}}\n",
    "def avg(a,b):\n",
    "    c=a+b\n",
    "    avg=c/2\n",
    "    return avg\n",
    "marks = avg(dic[1]['Mark']['phy'],dic[2]['Mark']['phy'])\n",
    "print(marks)"
   ]
  },
  {
   "cell_type": "code",
   "execution_count": 1,
   "id": "5a69e4bb",
   "metadata": {},
   "outputs": [
    {
     "name": "stdout",
     "output_type": "stream",
     "text": [
      "{'cherry', 'banana', 'apple'}\n"
     ]
    }
   ],
   "source": [
    "set1 = {\"apple\", \"banana\", \"cherry\"}\n",
    "print(set1)"
   ]
  },
  {
   "cell_type": "code",
   "execution_count": 2,
   "id": "69e6a247",
   "metadata": {},
   "outputs": [
    {
     "name": "stdout",
     "output_type": "stream",
     "text": [
      "3\n"
     ]
    }
   ],
   "source": [
    "print(len(set1))"
   ]
  },
  {
   "cell_type": "code",
   "execution_count": 3,
   "id": "9aff52a1",
   "metadata": {},
   "outputs": [
    {
     "name": "stdout",
     "output_type": "stream",
     "text": [
      "{'cherry', 'banana', 'apple'}\n",
      "<class 'set'>\n"
     ]
    }
   ],
   "source": [
    "#Using the set() constructor to make a set\n",
    "set2 = set((\"apple\", \"banana\", \"cherry\"))\n",
    "print(set2)\n",
    "print(type(set2))"
   ]
  },
  {
   "cell_type": "code",
   "execution_count": 4,
   "id": "3ead6bb8",
   "metadata": {},
   "outputs": [
    {
     "name": "stdout",
     "output_type": "stream",
     "text": [
      "cherry\n",
      "banana\n",
      "apple\n",
      "\n",
      "\n",
      "True\n"
     ]
    }
   ],
   "source": [
    "#Access Items from a set\n",
    "set = {\"apple\", \"banana\", \"cherry\"}\n",
    "\n",
    "for x in set:\n",
    "    print(x)\n",
    "\n",
    "#Checking items present in a set\n",
    "print(\"\\n\")\n",
    "print(\"banana\" in set)\n"
   ]
  },
  {
   "cell_type": "code",
   "execution_count": 5,
   "id": "dbf4b477",
   "metadata": {},
   "outputs": [
    {
     "name": "stdout",
     "output_type": "stream",
     "text": [
      "{'cherry', 'orange', 'banana', 'apple'}\n",
      "\n",
      "\n",
      "{'cherry', 'mango', 'pineapple', 'papaya', 'banana', 'apple'}\n",
      "\n",
      "\n",
      "{'cherry', 'orange', 'papaya', 'watermelon', 'banana', 'apple', 'kiwi'}\n"
     ]
    }
   ],
   "source": [
    "#Add Items in a set using add() method\n",
    "set.add(\"orange\")\n",
    "print(set)\n",
    "\n",
    "print('\\n')\n",
    "#Add Items in a set using update() method\n",
    "set = {\"apple\", \"banana\", \"cherry\"}\n",
    "tropical = {\"pineapple\", \"mango\", \"papaya\"}\n",
    "\n",
    "set.update(tropical)\n",
    "print(set)\n",
    "print(\"\\n\")\n",
    "#Adding items from list,tuple & dictionary\n",
    "set = {\"apple\", \"banana\", \"cherry\"}\n",
    "mylist = [\"kiwi\", \"orange\"]\n",
    "thistuple = (\"kiwi\", \"orange\") #tuple\n",
    "thisdict = {\"papaya\":5, \"watermelon\":2}\n",
    "set.update(mylist,thistuple,thisdict)\n",
    "\n",
    "print(set)"
   ]
  },
  {
   "cell_type": "code",
   "execution_count": 6,
   "id": "a5a7704b",
   "metadata": {},
   "outputs": [
    {
     "name": "stdout",
     "output_type": "stream",
     "text": [
      "{'orange', 'papaya', 'watermelon', 'banana', 'apple', 'kiwi'}\n",
      "\n",
      "\n",
      "{'orange', 'papaya', 'watermelon', 'apple', 'kiwi'}\n",
      "\n",
      "\n",
      "{'papaya', 'watermelon', 'apple', 'kiwi'}\n"
     ]
    }
   ],
   "source": [
    "#Remove an item from a set using remove() method\n",
    "set = {'banana', 'cherry', 'papaya', 'kiwi', 'apple', 'watermelon', 'orange'}\n",
    "set.remove(\"cherry\")\n",
    "\n",
    "print(set)\n",
    "print(\"\\n\")\n",
    "#Remove an item from a set using discard() method\n",
    "set.discard(\"banana\")\n",
    "print(set)\n",
    "print(\"\\n\")\n",
    "#Remove an item from a set using pop() method\n",
    "set.pop()\n",
    "print(set)"
   ]
  },
  {
   "cell_type": "code",
   "execution_count": 7,
   "id": "b01c8261",
   "metadata": {},
   "outputs": [
    {
     "name": "stdout",
     "output_type": "stream",
     "text": [
      "set()\n",
      "\n",
      "\n",
      "<class 'set'>\n"
     ]
    }
   ],
   "source": [
    "#Clearing a set using clear() method\n",
    "set = {\"apple\", \"banana\", \"cherry\"}\n",
    "set.clear()\n",
    "\n",
    "print(set)\n",
    "print(\"\\n\")\n",
    "#Delete the set completely\n",
    "del set\n",
    "\n",
    "print(set)"
   ]
  },
  {
   "cell_type": "code",
   "execution_count": 8,
   "id": "3ff94457",
   "metadata": {},
   "outputs": [
    {
     "name": "stdout",
     "output_type": "stream",
     "text": [
      "{'b', 1, 2, 3, 'c', 'a'}\n",
      "\n",
      "\n",
      "{'b', 1, 2, 3, 'c', 'a'}\n"
     ]
    }
   ],
   "source": [
    "#Joining of two set union() method\n",
    "\n",
    "set1 = {\"a\", \"b\" , \"c\"}\n",
    "set2 = {1, 2, 3}\n",
    "\n",
    "set3 = set1.union(set2)\n",
    "print(set3)\n",
    "print(\"\\n\")\n",
    "#Joining of two sets using update() method\n",
    "set1 = {\"a\", \"b\" , \"c\"}\n",
    "set2 = {1, 2, 3}\n",
    "\n",
    "set1.update(set2)\n",
    "print(set1)"
   ]
  },
  {
   "cell_type": "code",
   "execution_count": 9,
   "id": "e13551d7",
   "metadata": {},
   "outputs": [
    {
     "name": "stdout",
     "output_type": "stream",
     "text": [
      "{'banana', 'apple'}\n",
      "\n",
      "\n",
      "{'banana', 'apple'}\n"
     ]
    }
   ],
   "source": [
    "#intersection_update() method will keep only the items that are present in both sets\n",
    "x = {\"apple\", \"banana\", \"cherry\"}\n",
    "y = {\"google\", \"microsoft\", \"apple\",\"banana\"}\n",
    "\n",
    "x.intersection_update(y)\n",
    "print(x)\n",
    "print(\"\\n\")\n",
    "#intersection() method will return a new set, that only contains the items that are present in both sets\n",
    "z = x.intersection(y)\n",
    "\n",
    "print(z)\n"
   ]
  },
  {
   "cell_type": "code",
   "execution_count": 10,
   "id": "242b6899",
   "metadata": {},
   "outputs": [
    {
     "name": "stdout",
     "output_type": "stream",
     "text": [
      "{'cherry', 'google', 'microsoft'}\n",
      "\n",
      "\n"
     ]
    }
   ],
   "source": [
    "#symmetric_difference_update() method will keep only the elements that are NOT present in both sets.\n",
    "x = {\"apple\", \"banana\", \"cherry\"}\n",
    "y = {\"google\", \"microsoft\", \"apple\",\"banana\"}\n",
    "\n",
    "x.symmetric_difference_update(y)\n",
    "\n",
    "print(x)\n",
    "print('\\n')\n"
   ]
  },
  {
   "cell_type": "code",
   "execution_count": 11,
   "id": "4dfdeb8a",
   "metadata": {},
   "outputs": [
    {
     "name": "stdout",
     "output_type": "stream",
     "text": [
      "{'cherry', 'google', 'microsoft'}\n"
     ]
    }
   ],
   "source": [
    "#symmetric_difference() method will return a new set, that contains only the elements that are NOT present in both sets.\n",
    "x = {\"apple\", \"banana\", \"cherry\"}\n",
    "y = {\"google\", \"microsoft\", \"apple\",\"banana\"}\n",
    "\n",
    "z = x.symmetric_difference(y)\n",
    "\n",
    "print(z)"
   ]
  },
  {
   "cell_type": "code",
   "execution_count": 12,
   "id": "1f4fe64d",
   "metadata": {},
   "outputs": [
    {
     "name": "stdout",
     "output_type": "stream",
     "text": [
      "{'key1': 'item1', 'key2': 'item2'}\n",
      "item1\n"
     ]
    }
   ],
   "source": [
    "d = {'key1':'item1','key2':'item2'}\n",
    "print(d)\n",
    "print(d[\"key1\"])"
   ]
  },
  {
   "cell_type": "code",
   "execution_count": 13,
   "id": "11f9d6d8",
   "metadata": {},
   "outputs": [
    {
     "name": "stdout",
     "output_type": "stream",
     "text": [
      "{'brand': 'Ford', 'electric': False, 'year': 1964, 'colors': ['red', 'white', 'blue']}\n"
     ]
    }
   ],
   "source": [
    "#String, int, boolean, and list data types in dictionary\n",
    "dict = {\"brand\": \"Ford\",\"electric\": False,\"year\": 1964,\"colors\": [\"red\", \"white\", \"blue\"]}\n",
    "print(dict)"
   ]
  },
  {
   "cell_type": "code",
   "execution_count": 14,
   "id": "b518fbff",
   "metadata": {},
   "outputs": [
    {
     "name": "stdout",
     "output_type": "stream",
     "text": [
      "1964\n",
      "['red', 'white', 'blue']\n"
     ]
    }
   ],
   "source": [
    "#Accessing Items:You can access the items of a dictionary by referring to its key name\n",
    "print(dict[\"year\"])\n",
    "#Accessing items using get() method\n",
    "print(dict.get(\"colors\"))"
   ]
  },
  {
   "cell_type": "code",
   "execution_count": 15,
   "id": "f0804d26",
   "metadata": {},
   "outputs": [
    {
     "name": "stdout",
     "output_type": "stream",
     "text": [
      "dict_keys(['brand', 'electric', 'year', 'colors'])\n"
     ]
    }
   ],
   "source": [
    "#Get Keys:The keys() method will return a list of all the keys in the dictionary.\n",
    "x = dict.keys()\n",
    "print(x)"
   ]
  },
  {
   "cell_type": "code",
   "execution_count": 16,
   "id": "3827f295",
   "metadata": {},
   "outputs": [
    {
     "name": "stdout",
     "output_type": "stream",
     "text": [
      "dict_values(['Ford', False, 1964, ['red', 'white', 'blue']])\n"
     ]
    }
   ],
   "source": [
    "#Get Values:The values() method will return a list of all the values in the dictionary.\n",
    "x = dict.values()\n",
    "print(x)"
   ]
  },
  {
   "cell_type": "code",
   "execution_count": 17,
   "id": "b6874f22",
   "metadata": {},
   "outputs": [
    {
     "name": "stdout",
     "output_type": "stream",
     "text": [
      "dict_items([('brand', 'Ford'), ('electric', False), ('year', 1964), ('colors', ['red', 'white', 'blue'])])\n"
     ]
    }
   ],
   "source": [
    "#Get Items:The items() method will return each item in a dictionary, as tuples in a list.Get a list of the key:value pairs\n",
    "x = dict.items()\n",
    "print(x)"
   ]
  },
  {
   "cell_type": "code",
   "execution_count": 18,
   "id": "463b9d6d",
   "metadata": {},
   "outputs": [
    {
     "name": "stdout",
     "output_type": "stream",
     "text": [
      "2020\n",
      "{'brand': 'Ford', 'electric': False, 'year': 2020, 'colors': ['red', 'white', 'blue']}\n",
      "4100\n",
      "{'brand': 'Ford', 'electric': False, 'year': 2020, 'colors': ['red', 'white', 'blue'], 'slno': '4100'}\n"
     ]
    }
   ],
   "source": [
    "#Make a change in the original dictionary\n",
    "x = dict[\"year\"] = 2020\n",
    "\n",
    "print(x) #after the change\n",
    "print(dict)\n",
    "\n",
    "#Add a new item to the original dictionary\n",
    "y = dict[\"slno\"] = \"4100\"\n",
    "\n",
    "print(y) #after the change\n",
    "print(dict)"
   ]
  },
  {
   "cell_type": "code",
   "execution_count": 19,
   "id": "0501f6c9",
   "metadata": {},
   "outputs": [
    {
     "name": "stdout",
     "output_type": "stream",
     "text": [
      "{'brand': 'Ford', 'electric': False, 'year': 2020, 'color': 'red'}\n"
     ]
    }
   ],
   "source": [
    "#Updating or changing in a dictionary\n",
    "dict = {\"brand\": \"Ford\",\"electric\": False,\"year\": 1964,\"color\":\"red\"}\n",
    "dict.update({\"year\": 2020})\n",
    "print(dict)"
   ]
  },
  {
   "cell_type": "code",
   "execution_count": 20,
   "id": "988285bd",
   "metadata": {},
   "outputs": [
    {
     "name": "stdout",
     "output_type": "stream",
     "text": [
      "{'electric': False, 'year': 1964, 'color': 'red'}\n",
      "\n",
      "\n",
      "{'electric': False, 'year': 1964}\n",
      "\n",
      "\n",
      "{'year': 1964}\n",
      "\n",
      "\n",
      "{}\n"
     ]
    }
   ],
   "source": [
    "#Removing Items from a dictionary\n",
    "dict = {\"brand\": \"Ford\",\"electric\": False,\"year\": 1964,\"color\":\"red\"}\n",
    "dict.pop(\"brand\")\n",
    "print(dict)\n",
    "print('\\n')\n",
    "\n",
    "#The popitem() method removes the last inserted item\n",
    "dict.popitem()\n",
    "print(dict)\n",
    "print('\\n')\n",
    "\n",
    "#The del keyword removes the item with the specified key name\n",
    "del dict[\"electric\"]\n",
    "print(dict)\n",
    "print('\\n')\n",
    "\n",
    "#The clear() method empties the dictionary\n",
    "dict.clear()\n",
    "print(dict)"
   ]
  },
  {
   "cell_type": "code",
   "execution_count": 21,
   "id": "577a5e52",
   "metadata": {},
   "outputs": [
    {
     "name": "stdout",
     "output_type": "stream",
     "text": [
      "brand\n",
      "electric\n",
      "year\n",
      "color\n",
      "\n",
      "\n",
      "Ford\n",
      "False\n",
      "1964\n",
      "red\n"
     ]
    }
   ],
   "source": [
    "#Looping in the dictionary\n",
    "dict = {\"brand\": \"Ford\",\"electric\": False,\"year\": 1964,\"color\":\"red\"}\n",
    "\n",
    "\"\"\"Print all key names in the dictionary, one by one\"\"\"\n",
    "for x in dict:\n",
    "    print(x)\n",
    "\n",
    "print('\\n')\n",
    "\"\"\"Print all values in the dictionary, one by one\"\"\"\n",
    "for x in dict:\n",
    "    print(dict[x])"
   ]
  },
  {
   "cell_type": "code",
   "execution_count": 22,
   "id": "0d1448d0",
   "metadata": {},
   "outputs": [
    {
     "name": "stdout",
     "output_type": "stream",
     "text": [
      "Ford\n",
      "False\n",
      "1964\n",
      "red\n",
      "\n",
      "\n",
      "brand\n",
      "electric\n",
      "year\n",
      "color\n",
      "\n",
      "\n",
      "brand -> Ford\n",
      "electric -> False\n",
      "year -> 1964\n",
      "color -> red\n"
     ]
    }
   ],
   "source": [
    "#returns values in dict\n",
    "for x in dict.values():\n",
    "    print(x)\n",
    "print(\"\\n\")\n",
    "#returns key in dict \n",
    "for x in dict.keys():\n",
    "    print(x)\n",
    "print('\\n')\n",
    "#returns key:value pair in dict\n",
    "for x, y in dict.items():\n",
    "    print(x,\"->\", y)"
   ]
  },
  {
   "cell_type": "code",
   "execution_count": 23,
   "id": "cd6a6f6b",
   "metadata": {},
   "outputs": [
    {
     "name": "stdout",
     "output_type": "stream",
     "text": [
      "{'child1': {'name': 'Emil', 'year': 2004}, 'child2': {'name': 'Tobias', 'year': 2007}, 'child3': {'name': 'Linus', 'year': 2011}}\n"
     ]
    }
   ],
   "source": [
    "#Nested dictionary\n",
    "\n",
    "myfamily = {\"child1\" : {\"name\" : \"Emil\",\"year\" : 2004},\"child2\" : {\"name\" : \"Tobias\",\"year\" : 2007},\"child3\" : \n",
    "            {\"name\" : \"Linus\",\"year\" : 2011}}\n",
    "print(myfamily)"
   ]
  },
  {
   "cell_type": "code",
   "execution_count": 24,
   "id": "9567533d",
   "metadata": {},
   "outputs": [
    {
     "name": "stdout",
     "output_type": "stream",
     "text": [
      "30\n",
      "30\n"
     ]
    }
   ],
   "source": [
    "#Multiply 6 to argument a, and return the result:\n",
    "\n",
    "x = lambda a : a * 6\n",
    "print(x(5))\n",
    "\n",
    "#Multiply argument a with argument b and return the result:\n",
    "\n",
    "x = lambda a, b : a * b\n",
    "print(x(5, 6))"
   ]
  },
  {
   "cell_type": "code",
   "execution_count": 25,
   "id": "856d72c0",
   "metadata": {},
   "outputs": [],
   "source": [
    "def func():\n",
    "    print('This is a custom function')"
   ]
  },
  {
   "cell_type": "code",
   "execution_count": 26,
   "id": "6c923824",
   "metadata": {},
   "outputs": [
    {
     "name": "stdout",
     "output_type": "stream",
     "text": [
      "This is a custom function\n"
     ]
    }
   ],
   "source": [
    "func()"
   ]
  },
  {
   "cell_type": "code",
   "execution_count": 27,
   "id": "fc64b51d",
   "metadata": {},
   "outputs": [],
   "source": [
    "def func1(a):\n",
    "    print('This ia s custom function '+str(a))"
   ]
  },
  {
   "cell_type": "code",
   "execution_count": 28,
   "id": "3209e521",
   "metadata": {},
   "outputs": [
    {
     "name": "stdout",
     "output_type": "stream",
     "text": [
      "This ia s custom function created by me\n",
      "This ia s custom function 2\n",
      "This ia s custom function 3.665\n"
     ]
    }
   ],
   "source": [
    "func1('created by me')\n",
    "func1(2)\n",
    "func1(3.665)"
   ]
  },
  {
   "cell_type": "code",
   "execution_count": 29,
   "id": "5566a60f",
   "metadata": {},
   "outputs": [
    {
     "name": "stdout",
     "output_type": "stream",
     "text": [
      "16\n",
      "ram & hari\n"
     ]
    }
   ],
   "source": [
    "def func2(a,b):\n",
    "    c=a+b\n",
    "    print(c)\n",
    "func2(9,7)\n",
    "func2('ram & ','hari')"
   ]
  },
  {
   "cell_type": "code",
   "execution_count": 30,
   "id": "5d108a78",
   "metadata": {},
   "outputs": [
    {
     "name": "stdout",
     "output_type": "stream",
     "text": [
      "13\n"
     ]
    }
   ],
   "source": [
    "#Use of Return Statement in a Function\n",
    "def func3(a,b):\n",
    "    c=a+b\n",
    "    return c\n",
    "a=func3(5,8)\n",
    "print(a)"
   ]
  },
  {
   "cell_type": "code",
   "execution_count": 31,
   "id": "8a5c9a9b",
   "metadata": {},
   "outputs": [
    {
     "name": "stdout",
     "output_type": "stream",
     "text": [
      "Name is ram\n",
      "Roll no. is 1\n",
      "Branch is CSE\n",
      "\n"
     ]
    }
   ],
   "source": [
    "#Use of Default Argument\n",
    "def func5(name='ram',roll_no=1,branch='CSE'):\n",
    "    print('Name is '+name)\n",
    "    print('Roll no. is '+str(roll_no))\n",
    "    print('Branch is '+branch,end='\\n\\n')\n",
    "func5()"
   ]
  },
  {
   "cell_type": "code",
   "execution_count": 32,
   "id": "41f7673b",
   "metadata": {},
   "outputs": [
    {
     "name": "stdout",
     "output_type": "stream",
     "text": [
      "Name is hari\n",
      "Roll no. is 1\n",
      "Branch is CSE\n",
      "\n"
     ]
    }
   ],
   "source": [
    "func5('hari')"
   ]
  },
  {
   "cell_type": "code",
   "execution_count": 33,
   "id": "d7c1aa06",
   "metadata": {},
   "outputs": [
    {
     "name": "stdout",
     "output_type": "stream",
     "text": [
      "Name is shayam\n",
      "Roll no. is 5\n",
      "Branch is CSE\n",
      "\n"
     ]
    }
   ],
   "source": [
    "func5('shayam',5)"
   ]
  },
  {
   "cell_type": "code",
   "execution_count": 34,
   "id": "3e8c62e6",
   "metadata": {},
   "outputs": [
    {
     "name": "stdout",
     "output_type": "stream",
     "text": [
      "Name is sunny\n",
      "Roll no. is 7\n",
      "Branch is EEE\n",
      "\n"
     ]
    }
   ],
   "source": [
    "func5('sunny',7,'EEE')\n"
   ]
  },
  {
   "cell_type": "code",
   "execution_count": 35,
   "id": "be8cf11a",
   "metadata": {},
   "outputs": [
    {
     "name": "stdout",
     "output_type": "stream",
     "text": [
      "Name is ram\n",
      "Roll no. is 1\n",
      "Branch is ECE\n",
      "\n"
     ]
    }
   ],
   "source": [
    "func5(branch='ECE')"
   ]
  },
  {
   "cell_type": "code",
   "execution_count": 36,
   "id": "999eeb86",
   "metadata": {},
   "outputs": [
    {
     "name": "stdout",
     "output_type": "stream",
     "text": [
      "6.333333333333333\n"
     ]
    }
   ],
   "source": [
    "#Average of list of nos.\n",
    "def average(a):\n",
    "    s=0\n",
    "    n=len(a)\n",
    "    for i in a:\n",
    "        s=s+i\n",
    "    av=s/n\n",
    "    return av\n",
    "c=average([4,9,6])\n",
    "print(c)"
   ]
  },
  {
   "cell_type": "code",
   "execution_count": 37,
   "id": "5576fc55",
   "metadata": {},
   "outputs": [
    {
     "name": "stdout",
     "output_type": "stream",
     "text": [
      "Name is ram\n",
      "Name is Hari\n"
     ]
    }
   ],
   "source": [
    "#Use of Variable Argument\n",
    "#If the number of arguments is unknown, add a * before the parameter name\n",
    "def funvar(name='ram',*vararg):\n",
    "    print('Name is '+name,end='\\n')\n",
    "    for i in vararg:\n",
    "        print(i)\n",
    "funvar()\n",
    "funvar('Hari')"
   ]
  },
  {
   "cell_type": "code",
   "execution_count": 38,
   "id": "dd831317",
   "metadata": {},
   "outputs": [
    {
     "name": "stdout",
     "output_type": "stream",
     "text": [
      "Name is Shyam\n",
      "Roll no is 8\n",
      "Branch is CSE\n"
     ]
    }
   ],
   "source": [
    "funvar('Shyam','Roll no is 8','Branch is CSE')"
   ]
  },
  {
   "cell_type": "code",
   "execution_count": 39,
   "id": "1e03aa90",
   "metadata": {},
   "outputs": [
    {
     "name": "stdout",
     "output_type": "stream",
     "text": [
      "Her last name is Subudhi\n"
     ]
    }
   ],
   "source": [
    "#If the number of keyword arguments is unknown, add a double ** before the parameter name\n",
    "def my_function(**St):\n",
    "    print(\"Her last name is \" +St[\"lname\"])\n",
    "\n",
    "my_function(fname = \"Supreeti\", lname = \"Subudhi\")"
   ]
  },
  {
   "cell_type": "code",
   "execution_count": 40,
   "id": "13002224",
   "metadata": {},
   "outputs": [
    {
     "name": "stdout",
     "output_type": "stream",
     "text": [
      "6.333333333333333\n"
     ]
    }
   ],
   "source": [
    "#for multiple values using an Variable Argument\n",
    "def average(*a):\n",
    "    s=0\n",
    "    n=len(a)\n",
    "    for i in a:\n",
    "        s=s+i\n",
    "    av=s/n\n",
    "    return av\n",
    "c=average(4,9,6)\n",
    "print(c)"
   ]
  },
  {
   "cell_type": "code",
   "execution_count": 41,
   "id": "b207a911",
   "metadata": {},
   "outputs": [
    {
     "name": "stdout",
     "output_type": "stream",
     "text": [
      "6\n",
      "4\n"
     ]
    }
   ],
   "source": [
    "#use of Global variable: Global variable can be accessed by other functions also\n",
    "def myadd(a,b,c):\n",
    "    global d\n",
    "    d=a+b+c\n",
    "    return d\n",
    "def mysub(e):\n",
    "    f=d-e\n",
    "    return f\n",
    "print(myadd(1,2,3))\n",
    "print(mysub(2))"
   ]
  },
  {
   "cell_type": "code",
   "execution_count": 42,
   "id": "023006c4",
   "metadata": {},
   "outputs": [
    {
     "name": "stdout",
     "output_type": "stream",
     "text": [
      "6\n",
      "4\n"
     ]
    }
   ],
   "source": [
    "#use of Global variable\n",
    "global d\n",
    "def myadd(a,b,c):\n",
    "    d=a+b+c\n",
    "    return d\n",
    "def mysub(e):\n",
    "    f=d-e\n",
    "    return f\n",
    "print(myadd(1,2,3))\n",
    "print(mysub(2))"
   ]
  },
  {
   "cell_type": "code",
   "execution_count": 43,
   "id": "148a5db6",
   "metadata": {},
   "outputs": [
    {
     "name": "stdout",
     "output_type": "stream",
     "text": [
      "12\n",
      "-22\n"
     ]
    }
   ],
   "source": [
    "def myadd(a,b,c):\n",
    "    d=a+b+c\n",
    "    return d\n",
    "def mysub(e):\n",
    "    f=d-e\n",
    "    return f\n",
    "print(myadd(4,5,3))\n",
    "print(mysub(28))\n",
    "global d"
   ]
  },
  {
   "cell_type": "code",
   "execution_count": 44,
   "id": "43b0ed88",
   "metadata": {},
   "outputs": [
    {
     "name": "stdout",
     "output_type": "stream",
     "text": [
      "22\n"
     ]
    }
   ],
   "source": [
    "#Lambda function inside a function\n",
    "def myfunc(n):\n",
    "    return lambda a : a * n\n",
    "\n",
    "x = myfunc(2)\n",
    "\n",
    "print(x(11))"
   ]
  },
  {
   "cell_type": "code",
   "execution_count": null,
   "id": "09a9c2ad",
   "metadata": {},
   "outputs": [],
   "source": []
  }
 ],
 "metadata": {
  "kernelspec": {
   "display_name": "Python 3",
   "language": "python",
   "name": "python3"
  },
  "language_info": {
   "codemirror_mode": {
    "name": "ipython",
    "version": 3
   },
   "file_extension": ".py",
   "mimetype": "text/x-python",
   "name": "python",
   "nbconvert_exporter": "python",
   "pygments_lexer": "ipython3",
   "version": "3.8.8"
  }
 },
 "nbformat": 4,
 "nbformat_minor": 5
}
